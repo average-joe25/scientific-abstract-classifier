{
  "nbformat": 4,
  "nbformat_minor": 0,
  "metadata": {
    "colab": {
      "name": "model2-LSTM.ipynb",
      "provenance": [],
      "collapsed_sections": [
        "Tv11RtD5wIGP",
        "tAUzt_D9ydi5",
        "RmwDtP_RzpF7",
        "LdR_gtSwYOOJ",
        "7VYjqKiHC9IN",
        "Q6QYuUURm6ne"
      ]
    },
    "kernelspec": {
      "name": "python3",
      "display_name": "Python 3"
    },
    "language_info": {
      "name": "python"
    },
    "accelerator": "GPU"
  },
  "cells": [
    {
      "cell_type": "markdown",
      "source": [
        "## Importing Libraries"
      ],
      "metadata": {
        "id": "Tv11RtD5wIGP"
      }
    },
    {
      "cell_type": "code",
      "execution_count": null,
      "metadata": {
        "id": "R3iMwacOD75I"
      },
      "outputs": [],
      "source": [
        "import tensorflow as tf\n",
        "import numpy as np\n",
        "import pandas as pd \n",
        "import matplotlib.pyplot as plt\n",
        "import seaborn as sns\n",
        "% matplotlib inline\n"
      ]
    },
    {
      "cell_type": "markdown",
      "source": [
        "## Getting Data for repo (Note: downloading 20k rct data to find the best preforming model)\n",
        "\n"
      ],
      "metadata": {
        "id": "tAUzt_D9ydi5"
      }
    },
    {
      "cell_type": "code",
      "source": [
        "##Getting Train data for rct 20k\n",
        "! wget https://raw.githubusercontent.com/average-joe25/scientific-abstract-classifier/main/data/PubMed_20k_RCT_numbers_replaced_with_at_sign/train.txt\n",
        "##Getting validation data for rct 20k\n",
        "! wget https://raw.githubusercontent.com/average-joe25/scientific-abstract-classifier/main/data/PubMed_20k_RCT_numbers_replaced_with_at_sign/dev.txt\n",
        "## Getting test data for rct 20k\n",
        "! wget https://raw.githubusercontent.com/average-joe25/scientific-abstract-classifier/main/data/PubMed_20k_RCT_numbers_replaced_with_at_sign/test.txt"
      ],
      "metadata": {
        "colab": {
          "base_uri": "https://localhost:8080/"
        },
        "id": "YSMu-YB_xP3y",
        "outputId": "b0da91cc-1c82-478e-ab01-5cff5e88dd50"
      },
      "execution_count": null,
      "outputs": [
        {
          "output_type": "stream",
          "name": "stdout",
          "text": [
            "--2022-05-09 11:23:36--  https://raw.githubusercontent.com/average-joe25/scientific-abstract-classifier/main/data/PubMed_20k_RCT_numbers_replaced_with_at_sign/train.txt\n",
            "Resolving raw.githubusercontent.com (raw.githubusercontent.com)... 185.199.108.133, 185.199.109.133, 185.199.110.133, ...\n",
            "Connecting to raw.githubusercontent.com (raw.githubusercontent.com)|185.199.108.133|:443... connected.\n",
            "HTTP request sent, awaiting response... 200 OK\n",
            "Length: 28908792 (28M) [text/plain]\n",
            "Saving to: ‘train.txt’\n",
            "\n",
            "train.txt           100%[===================>]  27.57M  --.-KB/s    in 0.1s    \n",
            "\n",
            "2022-05-09 11:23:37 (247 MB/s) - ‘train.txt’ saved [28908792/28908792]\n",
            "\n",
            "--2022-05-09 11:23:37--  https://raw.githubusercontent.com/average-joe25/scientific-abstract-classifier/main/data/PubMed_20k_RCT_numbers_replaced_with_at_sign/dev.txt\n",
            "Resolving raw.githubusercontent.com (raw.githubusercontent.com)... 185.199.108.133, 185.199.109.133, 185.199.110.133, ...\n",
            "Connecting to raw.githubusercontent.com (raw.githubusercontent.com)|185.199.108.133|:443... connected.\n",
            "HTTP request sent, awaiting response... 200 OK\n",
            "Length: 4845197 (4.6M) [text/plain]\n",
            "Saving to: ‘dev.txt’\n",
            "\n",
            "dev.txt             100%[===================>]   4.62M  --.-KB/s    in 0.04s   \n",
            "\n",
            "2022-05-09 11:23:38 (109 MB/s) - ‘dev.txt’ saved [4845197/4845197]\n",
            "\n",
            "--2022-05-09 11:23:38--  https://raw.githubusercontent.com/average-joe25/scientific-abstract-classifier/main/data/PubMed_20k_RCT_numbers_replaced_with_at_sign/test.txt\n",
            "Resolving raw.githubusercontent.com (raw.githubusercontent.com)... 185.199.108.133, 185.199.109.133, 185.199.110.133, ...\n",
            "Connecting to raw.githubusercontent.com (raw.githubusercontent.com)|185.199.108.133|:443... connected.\n",
            "HTTP request sent, awaiting response... 200 OK\n",
            "Length: 4811369 (4.6M) [text/plain]\n",
            "Saving to: ‘test.txt’\n",
            "\n",
            "test.txt            100%[===================>]   4.59M  --.-KB/s    in 0.05s   \n",
            "\n",
            "2022-05-09 11:23:38 (90.6 MB/s) - ‘test.txt’ saved [4811369/4811369]\n",
            "\n"
          ]
        }
      ]
    },
    {
      "cell_type": "code",
      "source": [
        "## moving them to new folder\n",
        "! mkdir rct20k\n",
        "! mv dev.txt rct20k/\n",
        "! mv train.txt rct20k/\n",
        "! mv test.txt rct20k/"
      ],
      "metadata": {
        "id": "ec793t3NzE1z"
      },
      "execution_count": null,
      "outputs": []
    },
    {
      "cell_type": "markdown",
      "source": [
        "## EDA and visualization of Data"
      ],
      "metadata": {
        "id": "RmwDtP_RzpF7"
      }
    },
    {
      "cell_type": "code",
      "source": [
        "##Getting lines from the files\n",
        "def get_data(dataset_type,rct_type):\n",
        "  parent_folder='/content/'\n",
        "  with open(str(parent_folder+rct_type+\"/\"+dataset_type),'r') as f:\n",
        "    list_lines= f.readlines()\n",
        "    return list_lines"
      ],
      "metadata": {
        "id": "9s_jxMKWzh-D"
      },
      "execution_count": null,
      "outputs": []
    },
    {
      "cell_type": "code",
      "source": [
        "train_lines_20k=get_data(\"train.txt\",\"rct20k\")\n",
        "test_lines_20k=get_data(\"test.txt\",\"rct20k\")\n",
        "val_lines_20k=get_data(\"dev.txt\",\"rct20k\")"
      ],
      "metadata": {
        "id": "ouZhEgBz2Rfx"
      },
      "execution_count": null,
      "outputs": []
    },
    {
      "cell_type": "code",
      "source": [
        "len(train_lines_20k),len(test_lines_20k),len(val_lines_20k)"
      ],
      "metadata": {
        "id": "ZtfuSwJP0ctu",
        "colab": {
          "base_uri": "https://localhost:8080/"
        },
        "outputId": "70de4e32-a5ca-40aa-c21e-c654c3cdc40b"
      },
      "execution_count": null,
      "outputs": [
        {
          "output_type": "execute_result",
          "data": {
            "text/plain": [
              "(210040, 35135, 35212)"
            ]
          },
          "metadata": {},
          "execution_count": 6
        }
      ]
    },
    {
      "cell_type": "code",
      "source": [
        "## function to create dataframe from lines\n",
        "def convert_to_df(lines):\n",
        "  abstract_size=0\n",
        "  dict_list=[]\n",
        "  abstract=[]\n",
        "  list_abstract=[]\n",
        "  for line in lines:\n",
        "    if(line.startswith(\"###\")):\n",
        "      if(len(abstract)!=0):\n",
        "        list_abstract.append(abstract)\n",
        "      abstract=[]\n",
        "    else:\n",
        "      abstract.append(line)\n",
        "  list_abstract.append(abstract)\n",
        "  for new_abstract in list_abstract:\n",
        "    count=0\n",
        "    for line in new_abstract:\n",
        "      count+=1\n",
        "      splitted=line.split('\\t')\n",
        "      if(splitted[0]=='\\n'):\n",
        "        continue\n",
        "      category=splitted[0]\n",
        "      text=splitted[1]\n",
        "      dict_list.append({'target':category,'text':text,'location':float(count/len(new_abstract))})\n",
        "  list_df=pd.DataFrame(dict_list)\n",
        "  return list_df\n"
      ],
      "metadata": {
        "id": "3htpJ72Y27t7"
      },
      "execution_count": null,
      "outputs": []
    },
    {
      "cell_type": "code",
      "source": [
        "##convert lines to dataframe\n",
        "train_df=convert_to_df(train_lines_20k)\n",
        "val_df=convert_to_df(val_lines_20k)\n",
        "test_df=convert_to_df(test_lines_20k)"
      ],
      "metadata": {
        "id": "EHsWRcET7z5k"
      },
      "execution_count": null,
      "outputs": []
    },
    {
      "cell_type": "code",
      "source": [
        "train_df.head(15)"
      ],
      "metadata": {
        "colab": {
          "base_uri": "https://localhost:8080/",
          "height": 520
        },
        "id": "7JxPRl7j8m7Q",
        "outputId": "ad0bfa97-658d-41e7-e4dd-a18212ba2cf7"
      },
      "execution_count": null,
      "outputs": [
        {
          "output_type": "execute_result",
          "data": {
            "text/plain": [
              "         target                                               text  location\n",
              "0     OBJECTIVE  To investigate the efficacy of @ weeks of dail...  0.076923\n",
              "1       METHODS  A total of @ patients with primary knee OA wer...  0.153846\n",
              "2       METHODS  Outcome measures included pain reduction and i...  0.230769\n",
              "3       METHODS  Pain was assessed using the visual analog pain...  0.307692\n",
              "4       METHODS  Secondary outcome measures included the Wester...  0.384615\n",
              "5       METHODS  Serum levels of interleukin @ ( IL-@ ) , IL-@ ...  0.461538\n",
              "6       RESULTS  There was a clinically relevant reduction in t...  0.538462\n",
              "7       RESULTS  The mean difference between treatment arms ( @...  0.615385\n",
              "8       RESULTS  Further , there was a clinically relevant redu...  0.692308\n",
              "9       RESULTS  These differences remained significant at @ we...  0.769231\n",
              "10      RESULTS  The Outcome Measures in Rheumatology Clinical ...  0.846154\n",
              "11  CONCLUSIONS  Low-dose oral prednisolone had both a short-te...  0.923077\n",
              "12   BACKGROUND  Emotional eating is associated with overeating...  0.083333\n",
              "13   BACKGROUND  Yet , empirical evidence for individual ( trai...  0.166667\n",
              "14    OBJECTIVE  The aim of this study was to test if attention...  0.250000"
            ],
            "text/html": [
              "\n",
              "  <div id=\"df-c5e14991-3295-460c-8693-530f7f36fb77\">\n",
              "    <div class=\"colab-df-container\">\n",
              "      <div>\n",
              "<style scoped>\n",
              "    .dataframe tbody tr th:only-of-type {\n",
              "        vertical-align: middle;\n",
              "    }\n",
              "\n",
              "    .dataframe tbody tr th {\n",
              "        vertical-align: top;\n",
              "    }\n",
              "\n",
              "    .dataframe thead th {\n",
              "        text-align: right;\n",
              "    }\n",
              "</style>\n",
              "<table border=\"1\" class=\"dataframe\">\n",
              "  <thead>\n",
              "    <tr style=\"text-align: right;\">\n",
              "      <th></th>\n",
              "      <th>target</th>\n",
              "      <th>text</th>\n",
              "      <th>location</th>\n",
              "    </tr>\n",
              "  </thead>\n",
              "  <tbody>\n",
              "    <tr>\n",
              "      <th>0</th>\n",
              "      <td>OBJECTIVE</td>\n",
              "      <td>To investigate the efficacy of @ weeks of dail...</td>\n",
              "      <td>0.076923</td>\n",
              "    </tr>\n",
              "    <tr>\n",
              "      <th>1</th>\n",
              "      <td>METHODS</td>\n",
              "      <td>A total of @ patients with primary knee OA wer...</td>\n",
              "      <td>0.153846</td>\n",
              "    </tr>\n",
              "    <tr>\n",
              "      <th>2</th>\n",
              "      <td>METHODS</td>\n",
              "      <td>Outcome measures included pain reduction and i...</td>\n",
              "      <td>0.230769</td>\n",
              "    </tr>\n",
              "    <tr>\n",
              "      <th>3</th>\n",
              "      <td>METHODS</td>\n",
              "      <td>Pain was assessed using the visual analog pain...</td>\n",
              "      <td>0.307692</td>\n",
              "    </tr>\n",
              "    <tr>\n",
              "      <th>4</th>\n",
              "      <td>METHODS</td>\n",
              "      <td>Secondary outcome measures included the Wester...</td>\n",
              "      <td>0.384615</td>\n",
              "    </tr>\n",
              "    <tr>\n",
              "      <th>5</th>\n",
              "      <td>METHODS</td>\n",
              "      <td>Serum levels of interleukin @ ( IL-@ ) , IL-@ ...</td>\n",
              "      <td>0.461538</td>\n",
              "    </tr>\n",
              "    <tr>\n",
              "      <th>6</th>\n",
              "      <td>RESULTS</td>\n",
              "      <td>There was a clinically relevant reduction in t...</td>\n",
              "      <td>0.538462</td>\n",
              "    </tr>\n",
              "    <tr>\n",
              "      <th>7</th>\n",
              "      <td>RESULTS</td>\n",
              "      <td>The mean difference between treatment arms ( @...</td>\n",
              "      <td>0.615385</td>\n",
              "    </tr>\n",
              "    <tr>\n",
              "      <th>8</th>\n",
              "      <td>RESULTS</td>\n",
              "      <td>Further , there was a clinically relevant redu...</td>\n",
              "      <td>0.692308</td>\n",
              "    </tr>\n",
              "    <tr>\n",
              "      <th>9</th>\n",
              "      <td>RESULTS</td>\n",
              "      <td>These differences remained significant at @ we...</td>\n",
              "      <td>0.769231</td>\n",
              "    </tr>\n",
              "    <tr>\n",
              "      <th>10</th>\n",
              "      <td>RESULTS</td>\n",
              "      <td>The Outcome Measures in Rheumatology Clinical ...</td>\n",
              "      <td>0.846154</td>\n",
              "    </tr>\n",
              "    <tr>\n",
              "      <th>11</th>\n",
              "      <td>CONCLUSIONS</td>\n",
              "      <td>Low-dose oral prednisolone had both a short-te...</td>\n",
              "      <td>0.923077</td>\n",
              "    </tr>\n",
              "    <tr>\n",
              "      <th>12</th>\n",
              "      <td>BACKGROUND</td>\n",
              "      <td>Emotional eating is associated with overeating...</td>\n",
              "      <td>0.083333</td>\n",
              "    </tr>\n",
              "    <tr>\n",
              "      <th>13</th>\n",
              "      <td>BACKGROUND</td>\n",
              "      <td>Yet , empirical evidence for individual ( trai...</td>\n",
              "      <td>0.166667</td>\n",
              "    </tr>\n",
              "    <tr>\n",
              "      <th>14</th>\n",
              "      <td>OBJECTIVE</td>\n",
              "      <td>The aim of this study was to test if attention...</td>\n",
              "      <td>0.250000</td>\n",
              "    </tr>\n",
              "  </tbody>\n",
              "</table>\n",
              "</div>\n",
              "      <button class=\"colab-df-convert\" onclick=\"convertToInteractive('df-c5e14991-3295-460c-8693-530f7f36fb77')\"\n",
              "              title=\"Convert this dataframe to an interactive table.\"\n",
              "              style=\"display:none;\">\n",
              "        \n",
              "  <svg xmlns=\"http://www.w3.org/2000/svg\" height=\"24px\"viewBox=\"0 0 24 24\"\n",
              "       width=\"24px\">\n",
              "    <path d=\"M0 0h24v24H0V0z\" fill=\"none\"/>\n",
              "    <path d=\"M18.56 5.44l.94 2.06.94-2.06 2.06-.94-2.06-.94-.94-2.06-.94 2.06-2.06.94zm-11 1L8.5 8.5l.94-2.06 2.06-.94-2.06-.94L8.5 2.5l-.94 2.06-2.06.94zm10 10l.94 2.06.94-2.06 2.06-.94-2.06-.94-.94-2.06-.94 2.06-2.06.94z\"/><path d=\"M17.41 7.96l-1.37-1.37c-.4-.4-.92-.59-1.43-.59-.52 0-1.04.2-1.43.59L10.3 9.45l-7.72 7.72c-.78.78-.78 2.05 0 2.83L4 21.41c.39.39.9.59 1.41.59.51 0 1.02-.2 1.41-.59l7.78-7.78 2.81-2.81c.8-.78.8-2.07 0-2.86zM5.41 20L4 18.59l7.72-7.72 1.47 1.35L5.41 20z\"/>\n",
              "  </svg>\n",
              "      </button>\n",
              "      \n",
              "  <style>\n",
              "    .colab-df-container {\n",
              "      display:flex;\n",
              "      flex-wrap:wrap;\n",
              "      gap: 12px;\n",
              "    }\n",
              "\n",
              "    .colab-df-convert {\n",
              "      background-color: #E8F0FE;\n",
              "      border: none;\n",
              "      border-radius: 50%;\n",
              "      cursor: pointer;\n",
              "      display: none;\n",
              "      fill: #1967D2;\n",
              "      height: 32px;\n",
              "      padding: 0 0 0 0;\n",
              "      width: 32px;\n",
              "    }\n",
              "\n",
              "    .colab-df-convert:hover {\n",
              "      background-color: #E2EBFA;\n",
              "      box-shadow: 0px 1px 2px rgba(60, 64, 67, 0.3), 0px 1px 3px 1px rgba(60, 64, 67, 0.15);\n",
              "      fill: #174EA6;\n",
              "    }\n",
              "\n",
              "    [theme=dark] .colab-df-convert {\n",
              "      background-color: #3B4455;\n",
              "      fill: #D2E3FC;\n",
              "    }\n",
              "\n",
              "    [theme=dark] .colab-df-convert:hover {\n",
              "      background-color: #434B5C;\n",
              "      box-shadow: 0px 1px 3px 1px rgba(0, 0, 0, 0.15);\n",
              "      filter: drop-shadow(0px 1px 2px rgba(0, 0, 0, 0.3));\n",
              "      fill: #FFFFFF;\n",
              "    }\n",
              "  </style>\n",
              "\n",
              "      <script>\n",
              "        const buttonEl =\n",
              "          document.querySelector('#df-c5e14991-3295-460c-8693-530f7f36fb77 button.colab-df-convert');\n",
              "        buttonEl.style.display =\n",
              "          google.colab.kernel.accessAllowed ? 'block' : 'none';\n",
              "\n",
              "        async function convertToInteractive(key) {\n",
              "          const element = document.querySelector('#df-c5e14991-3295-460c-8693-530f7f36fb77');\n",
              "          const dataTable =\n",
              "            await google.colab.kernel.invokeFunction('convertToInteractive',\n",
              "                                                     [key], {});\n",
              "          if (!dataTable) return;\n",
              "\n",
              "          const docLinkHtml = 'Like what you see? Visit the ' +\n",
              "            '<a target=\"_blank\" href=https://colab.research.google.com/notebooks/data_table.ipynb>data table notebook</a>'\n",
              "            + ' to learn more about interactive tables.';\n",
              "          element.innerHTML = '';\n",
              "          dataTable['output_type'] = 'display_data';\n",
              "          await google.colab.output.renderOutput(dataTable, element);\n",
              "          const docLink = document.createElement('div');\n",
              "          docLink.innerHTML = docLinkHtml;\n",
              "          element.appendChild(docLink);\n",
              "        }\n",
              "      </script>\n",
              "    </div>\n",
              "  </div>\n",
              "  "
            ]
          },
          "metadata": {},
          "execution_count": 9
        }
      ]
    },
    {
      "cell_type": "code",
      "source": [
        "#length line in a abstract\n",
        "plt.figure(figsize=(15,10))\n",
        "sns.histplot(x=train_df['text'].apply(lambda x: len(x.split(' '))),bins=50)"
      ],
      "metadata": {
        "id": "htjjKflD-J7R",
        "colab": {
          "base_uri": "https://localhost:8080/",
          "height": 623
        },
        "outputId": "8c97aaeb-4d13-4064-c8b1-50f936d73065"
      },
      "execution_count": null,
      "outputs": [
        {
          "output_type": "execute_result",
          "data": {
            "text/plain": [
              "<matplotlib.axes._subplots.AxesSubplot at 0x7f463c80c210>"
            ]
          },
          "metadata": {},
          "execution_count": 10
        },
        {
          "output_type": "display_data",
          "data": {
            "text/plain": [
              "<Figure size 1080x720 with 1 Axes>"
            ],
            "image/png": "[encoded data removed]"
          },
          "metadata": {
            "needs_background": "light"
          }
        }
      ]
    },
    {
      "cell_type": "code",
      "source": [
        "## Shortening all sentence to max length of 50\n",
        "def shorten(text):\n",
        "  lists=text.split(\" \")\n",
        "  size=np.minimum(50,len(lists))\n",
        "  t = \" \".join(lists[:size])\n",
        "  return t\n",
        "train_df['text']=train_df['text'].apply(shorten)\n",
        "test_df['text']=test_df['text'].apply(shorten)\n",
        "val_df['text']=val_df['text'].apply(shorten)"
      ],
      "metadata": {
        "id": "3IzZ0acMkao6"
      },
      "execution_count": null,
      "outputs": []
    },
    {
      "cell_type": "code",
      "source": [
        "plt.figure(figsize=(15,10))\n",
        "sns.histplot(x=train_df['text'].apply(lambda x: len(x.split(' '))),bins=50)"
      ],
      "metadata": {
        "colab": {
          "base_uri": "https://localhost:8080/",
          "height": 623
        },
        "id": "8VtrUAN9mGiT",
        "outputId": "6436bbac-37ea-4fde-ed55-c908872dee6c"
      },
      "execution_count": null,
      "outputs": [
        {
          "output_type": "execute_result",
          "data": {
            "text/plain": [
              "<matplotlib.axes._subplots.AxesSubplot at 0x7f463e058a50>"
            ]
          },
          "metadata": {},
          "execution_count": 19
        },
        {
          "output_type": "display_data",
          "data": {
            "text/plain": [
              "<Figure size 1080x720 with 1 Axes>"
            ],
            "image/png": "[encoded data removed]"
          },
          "metadata": {
            "needs_background": "light"
          }
        }
      ]
    },
    {
      "cell_type": "code",
      "source": [
        "## one hot Encoding The  classes\n",
        "num_classes=train_df['target'].nunique()\n",
        "class_names=list(train_df['target'].unique())\n",
        "train_df['target']=train_df['target'].apply(lambda x: class_names.index(x))\n",
        "def onehotencoding(data,classes):\n",
        "  return tf.one_hot(data,classes)\n",
        "train_labels=onehotencoding(train_df['target'],num_classes)"
      ],
      "metadata": {
        "id": "9Y5AG7QovIhU"
      },
      "execution_count": null,
      "outputs": []
    },
    {
      "cell_type": "code",
      "source": [
        "test_df['target']=test_df['target'].apply(lambda x: class_names.index(x))\n",
        "val_df['target']=val_df['target'].apply(lambda x: class_names.index(x))\n",
        "test_labels=onehotencoding(test_df['target'],num_classes)\n",
        "val_labels=onehotencoding(val_df['target'],num_classes)"
      ],
      "metadata": {
        "id": "L1MLqLo-y8dv"
      },
      "execution_count": null,
      "outputs": []
    },
    {
      "cell_type": "markdown",
      "source": [
        "## Turning DataFrame to tf.data.dataset for faster computing "
      ],
      "metadata": {
        "id": "LdR_gtSwYOOJ"
      }
    },
    {
      "cell_type": "code",
      "source": [
        "from tensorflow.data import Dataset"
      ],
      "metadata": {
        "id": "F_BP5XS9Xa2F"
      },
      "execution_count": null,
      "outputs": []
    },
    {
      "cell_type": "code",
      "source": [
        "train_dataset=Dataset.from_tensor_slices((train_df['text'].to_numpy(),train_labels)).batch(32).prefetch(tf.data.AUTOTUNE)\n",
        "test_dataset=Dataset.from_tensor_slices((test_df['text'].to_numpy(),test_labels)).batch(32).prefetch(tf.data.AUTOTUNE)\n",
        "val_dataset=Dataset.from_tensor_slices((val_df['text'].to_numpy(),val_labels)).batch(32).prefetch(tf.data.AUTOTUNE)"
      ],
      "metadata": {
        "id": "oQYtJKAIZT48"
      },
      "execution_count": null,
      "outputs": []
    },
    {
      "cell_type": "code",
      "source": [
        "train_dataset"
      ],
      "metadata": {
        "colab": {
          "base_uri": "https://localhost:8080/"
        },
        "id": "pvKW2iqEZscX",
        "outputId": "c8c88673-113b-4d03-a270-1fd966d7da7a"
      },
      "execution_count": null,
      "outputs": [
        {
          "output_type": "execute_result",
          "data": {
            "text/plain": [
              "<PrefetchDataset element_spec=(TensorSpec(shape=(None,), dtype=tf.string, name=None), TensorSpec(shape=(None, 5), dtype=tf.float32, name=None))>"
            ]
          },
          "metadata": {},
          "execution_count": 22
        }
      ]
    },
    {
      "cell_type": "markdown",
      "source": [
        "## Modelling using LSTM"
      ],
      "metadata": {
        "id": "7VYjqKiHC9IN"
      }
    },
    {
      "cell_type": "code",
      "source": [
        "from tensorflow.keras import layers\n",
        "from tensorflow.keras.optimizers import Adam,RMSprop\n",
        "from tensorflow.keras.callbacks import EarlyStopping,ModelCheckpoint"
      ],
      "metadata": {
        "id": "fkMvKkvbDB80"
      },
      "execution_count": null,
      "outputs": []
    },
    {
      "cell_type": "code",
      "source": [
        "#text vectorizor layer\n",
        "text_vec=layers.TextVectorization(max_tokens=5000,output_sequence_length=50,name=\"text_vectorization\")\n",
        "text_vec.adapt(train_df['text'])"
      ],
      "metadata": {
        "id": "Z0hh4v3tnL_g"
      },
      "execution_count": null,
      "outputs": []
    },
    {
      "cell_type": "code",
      "source": [
        "# Creating Text Embedding\n",
        "embed=layers.Embedding(len(text_vec.get_vocabulary()),256,mask_zero=True,name=\"token_embedding\")"
      ],
      "metadata": {
        "id": "mBvo9VqzoSjb"
      },
      "execution_count": null,
      "outputs": []
    },
    {
      "cell_type": "code",
      "source": [
        "## Modelling\n",
        "Input = layers.Input(shape=(1,),dtype=tf.string)\n",
        "x = text_vec(Input)\n",
        "x = embed(x)\n",
        "x = layers.Bidirectional(layers.LSTM(128))(x)\n",
        "x = layers.Dropout(0.2)(x)\n",
        "x = layers.Dense(128,activation='relu')(x)\n",
        "x = layers.Dropout(0.2)(x)\n",
        "x = layers.Dense(256,activation='relu')(x)\n",
        "x = layers.Dropout(0.2)(x)\n",
        "x = layers.Dense(256,activation='relu')(x)\n",
        "Output = layers.Dense(num_classes,activation='softmax')(x)"
      ],
      "metadata": {
        "id": "9IYU2t4Nm-Yt"
      },
      "execution_count": null,
      "outputs": []
    },
    {
      "cell_type": "code",
      "source": [
        "Model2 = tf.keras.Model(Input,Output)\n",
        "Model2.compile(loss=tf.keras.losses.CategoricalCrossentropy(),optimizer=Adam(),metrics=['accuracy'])\n",
        "Model2.summary()"
      ],
      "metadata": {
        "colab": {
          "base_uri": "https://localhost:8080/"
        },
        "id": "2BeN-MORp_2t",
        "outputId": "eda208a6-b7ba-4b7d-d1ab-756da9a05c99"
      },
      "execution_count": null,
      "outputs": [
        {
          "output_type": "stream",
          "name": "stdout",
          "text": [
            "Model: \"model_6\"\n",
            "_________________________________________________________________\n",
            " Layer (type)                Output Shape              Param #   \n",
            "=================================================================\n",
            " input_4 (InputLayer)        [(None, 1)]               0         \n",
            "                                                                 \n",
            " text_vectorization (TextVec  (None, 50)               0         \n",
            " torization)                                                     \n",
            "                                                                 \n",
            " token_embedding (Embedding)  (None, 50, 256)          1280000   \n",
            "                                                                 \n",
            " bidirectional_2 (Bidirectio  (None, 256)              394240    \n",
            " nal)                                                            \n",
            "                                                                 \n",
            " dropout (Dropout)           (None, 256)               0         \n",
            "                                                                 \n",
            " dense_4 (Dense)             (None, 128)               32896     \n",
            "                                                                 \n",
            " dropout_1 (Dropout)         (None, 128)               0         \n",
            "                                                                 \n",
            " dense_5 (Dense)             (None, 256)               33024     \n",
            "                                                                 \n",
            " dropout_2 (Dropout)         (None, 256)               0         \n",
            "                                                                 \n",
            " dense_6 (Dense)             (None, 256)               65792     \n",
            "                                                                 \n",
            " dense_7 (Dense)             (None, 5)                 1285      \n",
            "                                                                 \n",
            "=================================================================\n",
            "Total params: 1,807,237\n",
            "Trainable params: 1,807,237\n",
            "Non-trainable params: 0\n",
            "_________________________________________________________________\n"
          ]
        }
      ]
    },
    {
      "cell_type": "code",
      "source": [
        "batch_train_10precent=int(len(train_dataset)*0.1)\n",
        "batch_val_10precent=int(len(val_dataset)*0.1)"
      ],
      "metadata": {
        "id": "asSXFPItsvNL"
      },
      "execution_count": null,
      "outputs": []
    },
    {
      "cell_type": "code",
      "source": [
        "earlystop=EarlyStopping(monitor='val_accuracy',patience=2,mode='max',verbose=0,restore_best_weights=True)"
      ],
      "metadata": {
        "id": "ahYCrkSBrLSB"
      },
      "execution_count": null,
      "outputs": []
    },
    {
      "cell_type": "code",
      "source": [
        "history= Model2.fit(train_dataset,\n",
        "                    #steps_per_epoch=batch_train_10precent,\n",
        "                    epochs=1000,\n",
        "                    validation_data=val_dataset,\n",
        "                    validation_steps=batch_val_10precent,\n",
        "                    callbacks=[earlystop])"
      ],
      "metadata": {
        "colab": {
          "base_uri": "https://localhost:8080/"
        },
        "id": "LNyuJJyuq46y",
        "outputId": "c1b1e3b2-5a03-4734-e6f7-77d423aec1e7"
      },
      "execution_count": null,
      "outputs": [
        {
          "output_type": "stream",
          "name": "stdout",
          "text": [
            "Epoch 1/1000\n",
            "5627/5627 [==============================] - 111s 18ms/step - loss: 0.2795 - accuracy: 0.8985 - val_loss: 0.5976 - val_accuracy: 0.8088\n",
            "Epoch 2/1000\n",
            "5627/5627 [==============================] - 101s 18ms/step - loss: 0.2511 - accuracy: 0.9074 - val_loss: 0.6438 - val_accuracy: 0.8148\n",
            "Epoch 3/1000\n",
            "5627/5627 [==============================] - 101s 18ms/step - loss: 0.2266 - accuracy: 0.9169 - val_loss: 0.7578 - val_accuracy: 0.8045\n",
            "Epoch 4/1000\n",
            "5627/5627 [==============================] - 100s 18ms/step - loss: 0.2071 - accuracy: 0.9247 - val_loss: 0.7158 - val_accuracy: 0.8122\n"
          ]
        }
      ]
    },
    {
      "cell_type": "code",
      "source": [
        "# plotting result\n",
        "plt.figure(figsize=(10,5))\n",
        "history=pd.DataFrame(history.history)\n",
        "plt.plot(history)\n",
        "plt.legend(history.columns)"
      ],
      "metadata": {
        "colab": {
          "base_uri": "https://localhost:8080/",
          "height": 337
        },
        "id": "Wg0_4xALsafJ",
        "outputId": "2ae80c34-f4b4-4018-a42f-06c248c9c45e"
      },
      "execution_count": null,
      "outputs": [
        {
          "output_type": "execute_result",
          "data": {
            "text/plain": [
              "<matplotlib.legend.Legend at 0x7f45a4d1c690>"
            ]
          },
          "metadata": {},
          "execution_count": 73
        },
        {
          "output_type": "display_data",
          "data": {
            "text/plain": [
              "<Figure size 720x360 with 1 Axes>"
            ],
            "image/png": "[encoded data removed]"
          },
          "metadata": {
            "needs_background": "light"
          }
        }
      ]
    },
    {
      "cell_type": "markdown",
      "source": [
        "## Evaluation"
      ],
      "metadata": {
        "id": "Q6QYuUURm6ne"
      }
    },
    {
      "cell_type": "code",
      "source": [
        "from sklearn.metrics import f1_score,accuracy_score,recall_score,precision_score\n",
        "def measure(pred,value):\n",
        "  eva_dict={'accuracy':accuracy_score(value,pred),'precision':precision_score(value,pred,average='weighted'),'recall':recall_score(value,pred,average='weighted'),'f1_score':f1_score(value,pred,average='weighted')}\n",
        "  print(eva_dict)"
      ],
      "metadata": {
        "id": "e7MoAyNt-ctp"
      },
      "execution_count": null,
      "outputs": []
    },
    {
      "cell_type": "code",
      "source": [
        "Model2.evaluate(val_dataset)"
      ],
      "metadata": {
        "colab": {
          "base_uri": "https://localhost:8080/"
        },
        "id": "Uw1TERBT-lwx",
        "outputId": "4b010297-21d7-4a4f-cb78-ce35a724d1cb"
      },
      "execution_count": null,
      "outputs": [
        {
          "output_type": "stream",
          "name": "stdout",
          "text": [
            "945/945 [==============================] - 7s 7ms/step - loss: 0.6478 - accuracy: 0.8147\n"
          ]
        },
        {
          "output_type": "execute_result",
          "data": {
            "text/plain": [
              "[0.6477705240249634, 0.8146762847900391]"
            ]
          },
          "metadata": {},
          "execution_count": 75
        }
      ]
    },
    {
      "cell_type": "code",
      "source": [
        "pred=Model2.predict(test_df['text'])"
      ],
      "metadata": {
        "id": "vFJk_2pp-v24"
      },
      "execution_count": null,
      "outputs": []
    },
    {
      "cell_type": "code",
      "source": [
        "pred=tf.argmax(pred,axis=1)"
      ],
      "metadata": {
        "id": "Ra92ucJe-_2I"
      },
      "execution_count": null,
      "outputs": []
    },
    {
      "cell_type": "code",
      "source": [
        "measure(pred,test_df['target'])"
      ],
      "metadata": {
        "colab": {
          "base_uri": "https://localhost:8080/"
        },
        "id": "xvYpnwIr_H2k",
        "outputId": "58e19b11-e05b-4acd-a169-b8afdf423f17"
      },
      "execution_count": null,
      "outputs": [
        {
          "output_type": "stream",
          "name": "stdout",
          "text": [
            "{'accuracy': 0.8056080968972955, 'precision': 0.8063861782236242, 'recall': 0.8056080968972955, 'f1_score': 0.8040604538517697}\n"
          ]
        }
      ]
    },
    {
      "cell_type": "code",
      "source": [
        ""
      ],
      "metadata": {
        "id": "h2xdIKGWAA_I"
      },
      "execution_count": null,
      "outputs": []
    }
  ]
}