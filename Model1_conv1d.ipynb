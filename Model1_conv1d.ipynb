{
  "nbformat": 4,
  "nbformat_minor": 0,
  "metadata": {
    "colab": {
      "name": "Model1-conv1d.ipynb",
      "provenance": [],
      "collapsed_sections": []
    },
    "kernelspec": {
      "name": "python3",
      "display_name": "Python 3"
    },
    "language_info": {
      "name": "python"
    }
  },
  "cells": [
    {
      "cell_type": "markdown",
      "source": [
        "## Importing Libraries"
      ],
      "metadata": {
        "id": "Tv11RtD5wIGP"
      }
    },
    {
      "cell_type": "code",
      "execution_count": 1,
      "metadata": {
        "id": "R3iMwacOD75I"
      },
      "outputs": [],
      "source": [
        "import tensorflow as tf\n",
        "import numpy as np\n",
        "import pandas as pd \n",
        "import matplotlib.pyplot as plt\n",
        "import seaborn as sns\n",
        "% matplotlib inline\n"
      ]
    },
    {
      "cell_type": "markdown",
      "source": [
        "## Getting Data for repo (Note: downloading 20k rct data to find the best preforming model)\n",
        "\n"
      ],
      "metadata": {
        "id": "tAUzt_D9ydi5"
      }
    },
    {
      "cell_type": "code",
      "source": [
        "##Getting Train data for rct 20k\n",
        "! wget https://raw.githubusercontent.com/average-joe25/scientific-abstract-classifier/main/data/PubMed_20k_RCT_numbers_replaced_with_at_sign/train.txt\n",
        "##Getting validation data for rct 20k\n",
        "! wget https://raw.githubusercontent.com/average-joe25/scientific-abstract-classifier/main/data/PubMed_20k_RCT_numbers_replaced_with_at_sign/dev.txt\n",
        "## Getting test data for rct 20k\n",
        "! wget https://raw.githubusercontent.com/average-joe25/scientific-abstract-classifier/main/data/PubMed_20k_RCT_numbers_replaced_with_at_sign/test.txt"
      ],
      "metadata": {
        "colab": {
          "base_uri": "https://localhost:8080/"
        },
        "id": "YSMu-YB_xP3y",
        "outputId": "33175014-f42f-4999-888b-0fc724d11e41"
      },
      "execution_count": 2,
      "outputs": [
        {
          "output_type": "stream",
          "name": "stdout",
          "text": [
            "--2022-05-05 10:19:29--  https://raw.githubusercontent.com/average-joe25/scientific-abstract-classifier/main/data/PubMed_20k_RCT_numbers_replaced_with_at_sign/train.txt\n",
            "Resolving raw.githubusercontent.com (raw.githubusercontent.com)... 185.199.108.133, 185.199.109.133, 185.199.110.133, ...\n",
            "Connecting to raw.githubusercontent.com (raw.githubusercontent.com)|185.199.108.133|:443... connected.\n",
            "HTTP request sent, awaiting response... 200 OK\n",
            "Length: 28908792 (28M) [text/plain]\n",
            "Saving to: ‘train.txt’\n",
            "\n",
            "train.txt           100%[===================>]  27.57M  --.-KB/s    in 0.1s    \n",
            "\n",
            "2022-05-05 10:19:31 (245 MB/s) - ‘train.txt’ saved [28908792/28908792]\n",
            "\n",
            "--2022-05-05 10:19:31--  https://raw.githubusercontent.com/average-joe25/scientific-abstract-classifier/main/data/PubMed_20k_RCT_numbers_replaced_with_at_sign/dev.txt\n",
            "Resolving raw.githubusercontent.com (raw.githubusercontent.com)... 185.199.108.133, 185.199.109.133, 185.199.110.133, ...\n",
            "Connecting to raw.githubusercontent.com (raw.githubusercontent.com)|185.199.108.133|:443... connected.\n",
            "HTTP request sent, awaiting response... 200 OK\n",
            "Length: 4845197 (4.6M) [text/plain]\n",
            "Saving to: ‘dev.txt’\n",
            "\n",
            "dev.txt             100%[===================>]   4.62M  --.-KB/s    in 0.05s   \n",
            "\n",
            "2022-05-05 10:19:31 (89.6 MB/s) - ‘dev.txt’ saved [4845197/4845197]\n",
            "\n",
            "--2022-05-05 10:19:31--  https://raw.githubusercontent.com/average-joe25/scientific-abstract-classifier/main/data/PubMed_20k_RCT_numbers_replaced_with_at_sign/test.txt\n",
            "Resolving raw.githubusercontent.com (raw.githubusercontent.com)... 185.199.111.133, 185.199.110.133, 185.199.108.133, ...\n",
            "Connecting to raw.githubusercontent.com (raw.githubusercontent.com)|185.199.111.133|:443... connected.\n",
            "HTTP request sent, awaiting response... 200 OK\n",
            "Length: 4811369 (4.6M) [text/plain]\n",
            "Saving to: ‘test.txt’\n",
            "\n",
            "test.txt            100%[===================>]   4.59M  --.-KB/s    in 0.05s   \n",
            "\n",
            "2022-05-05 10:19:32 (86.7 MB/s) - ‘test.txt’ saved [4811369/4811369]\n",
            "\n"
          ]
        }
      ]
    },
    {
      "cell_type": "code",
      "source": [
        "## moving them to new folder\n",
        "! mkdir rct20k\n",
        "! mv dev.txt rct20k/\n",
        "! mv train.txt rct20k/\n",
        "! mv test.txt rct20k/"
      ],
      "metadata": {
        "id": "ec793t3NzE1z"
      },
      "execution_count": 3,
      "outputs": []
    },
    {
      "cell_type": "markdown",
      "source": [
        "## EDA and visualization of Data"
      ],
      "metadata": {
        "id": "RmwDtP_RzpF7"
      }
    },
    {
      "cell_type": "code",
      "source": [
        "##Getting lines from the files\n",
        "def get_data(dataset_type,rct_type):\n",
        "  parent_folder='/content/'\n",
        "  with open(str(parent_folder+rct_type+\"/\"+dataset_type),'r') as f:\n",
        "    list_lines= f.readlines()\n",
        "    return list_lines"
      ],
      "metadata": {
        "id": "9s_jxMKWzh-D"
      },
      "execution_count": 4,
      "outputs": []
    },
    {
      "cell_type": "code",
      "source": [
        "train_lines_20k=get_data(\"train.txt\",\"rct20k\")\n",
        "test_lines_20k=get_data(\"test.txt\",\"rct20k\")\n",
        "val_lines_20k=get_data(\"dev.txt\",\"rct20k\")"
      ],
      "metadata": {
        "id": "ouZhEgBz2Rfx"
      },
      "execution_count": 21,
      "outputs": []
    },
    {
      "cell_type": "code",
      "source": [
        "len(train_lines_20k),len(test_lines_20k),len(val_lines_20k)"
      ],
      "metadata": {
        "id": "ZtfuSwJP0ctu",
        "colab": {
          "base_uri": "https://localhost:8080/"
        },
        "outputId": "0206a79f-be77-4580-e873-bb43229507f5"
      },
      "execution_count": 22,
      "outputs": [
        {
          "output_type": "execute_result",
          "data": {
            "text/plain": [
              "(210040, 35135, 35212)"
            ]
          },
          "metadata": {},
          "execution_count": 22
        }
      ]
    },
    {
      "cell_type": "code",
      "source": [
        "## function to create dataframe from lines\n",
        "def convert_to_df(lines):\n",
        "  abstract_size=0\n",
        "  dict_list=[]\n",
        "  abstract=[]\n",
        "  list_abstract=[]\n",
        "  for line in lines:\n",
        "    if(line.startswith(\"###\")):\n",
        "      if(len(abstract)!=0):\n",
        "        list_abstract.append(abstract)\n",
        "      abstract=[]\n",
        "    else:\n",
        "      abstract.append(line)\n",
        "  list_abstract.append(abstract)\n",
        "  for new_abstract in list_abstract:\n",
        "    count=0\n",
        "    for line in new_abstract:\n",
        "      count+=1\n",
        "      splitted=line.split('\\t')\n",
        "      if(splitted[0]=='\\n'):\n",
        "        continue\n",
        "      category=splitted[0]\n",
        "      text=splitted[1]\n",
        "      dict_list.append({'target':category,'text':text,'location':float(count/len(new_abstract))})\n",
        "  list_df=pd.DataFrame(dict_list)\n",
        "  return list_df\n"
      ],
      "metadata": {
        "id": "3htpJ72Y27t7"
      },
      "execution_count": 23,
      "outputs": []
    },
    {
      "cell_type": "code",
      "source": [
        "##convert lines to dataframe\n",
        "train_df=convert_to_df(train_lines_20k)\n",
        "val_df=convert_to_df(val_lines_20k)\n",
        "test_df=convert_to_df(test_lines_20k)"
      ],
      "metadata": {
        "id": "EHsWRcET7z5k"
      },
      "execution_count": 24,
      "outputs": []
    },
    {
      "cell_type": "code",
      "source": [
        "train_df.head(15)"
      ],
      "metadata": {
        "colab": {
          "base_uri": "https://localhost:8080/",
          "height": 520
        },
        "id": "7JxPRl7j8m7Q",
        "outputId": "11a63ab3-0e0a-4737-a066-65d2cb47c079"
      },
      "execution_count": 32,
      "outputs": [
        {
          "output_type": "execute_result",
          "data": {
            "text/plain": [
              "    target                                               text  location\n",
              "0        0  To investigate the efficacy of @ weeks of dail...  0.076923\n",
              "1        1  A total of @ patients with primary knee OA wer...  0.153846\n",
              "2        1  Outcome measures included pain reduction and i...  0.230769\n",
              "3        1  Pain was assessed using the visual analog pain...  0.307692\n",
              "4        1  Secondary outcome measures included the Wester...  0.384615\n",
              "5        1  Serum levels of interleukin @ ( IL-@ ) , IL-@ ...  0.461538\n",
              "6        2  There was a clinically relevant reduction in t...  0.538462\n",
              "7        2  The mean difference between treatment arms ( @...  0.615385\n",
              "8        2  Further , there was a clinically relevant redu...  0.692308\n",
              "9        2  These differences remained significant at @ we...  0.769231\n",
              "10       2  The Outcome Measures in Rheumatology Clinical ...  0.846154\n",
              "11       3  Low-dose oral prednisolone had both a short-te...  0.923077\n",
              "12       4  Emotional eating is associated with overeating...  0.083333\n",
              "13       4  Yet , empirical evidence for individual ( trai...  0.166667\n",
              "14       0  The aim of this study was to test if attention...  0.250000"
            ],
            "text/html": [
              "\n",
              "  <div id=\"df-ced3ae56-3b4d-491f-bebe-cdf6f58b7a3d\">\n",
              "    <div class=\"colab-df-container\">\n",
              "      <div>\n",
              "<style scoped>\n",
              "    .dataframe tbody tr th:only-of-type {\n",
              "        vertical-align: middle;\n",
              "    }\n",
              "\n",
              "    .dataframe tbody tr th {\n",
              "        vertical-align: top;\n",
              "    }\n",
              "\n",
              "    .dataframe thead th {\n",
              "        text-align: right;\n",
              "    }\n",
              "</style>\n",
              "<table border=\"1\" class=\"dataframe\">\n",
              "  <thead>\n",
              "    <tr style=\"text-align: right;\">\n",
              "      <th></th>\n",
              "      <th>target</th>\n",
              "      <th>text</th>\n",
              "      <th>location</th>\n",
              "    </tr>\n",
              "  </thead>\n",
              "  <tbody>\n",
              "    <tr>\n",
              "      <th>0</th>\n",
              "      <td>0</td>\n",
              "      <td>To investigate the efficacy of @ weeks of dail...</td>\n",
              "      <td>0.076923</td>\n",
              "    </tr>\n",
              "    <tr>\n",
              "      <th>1</th>\n",
              "      <td>1</td>\n",
              "      <td>A total of @ patients with primary knee OA wer...</td>\n",
              "      <td>0.153846</td>\n",
              "    </tr>\n",
              "    <tr>\n",
              "      <th>2</th>\n",
              "      <td>1</td>\n",
              "      <td>Outcome measures included pain reduction and i...</td>\n",
              "      <td>0.230769</td>\n",
              "    </tr>\n",
              "    <tr>\n",
              "      <th>3</th>\n",
              "      <td>1</td>\n",
              "      <td>Pain was assessed using the visual analog pain...</td>\n",
              "      <td>0.307692</td>\n",
              "    </tr>\n",
              "    <tr>\n",
              "      <th>4</th>\n",
              "      <td>1</td>\n",
              "      <td>Secondary outcome measures included the Wester...</td>\n",
              "      <td>0.384615</td>\n",
              "    </tr>\n",
              "    <tr>\n",
              "      <th>5</th>\n",
              "      <td>1</td>\n",
              "      <td>Serum levels of interleukin @ ( IL-@ ) , IL-@ ...</td>\n",
              "      <td>0.461538</td>\n",
              "    </tr>\n",
              "    <tr>\n",
              "      <th>6</th>\n",
              "      <td>2</td>\n",
              "      <td>There was a clinically relevant reduction in t...</td>\n",
              "      <td>0.538462</td>\n",
              "    </tr>\n",
              "    <tr>\n",
              "      <th>7</th>\n",
              "      <td>2</td>\n",
              "      <td>The mean difference between treatment arms ( @...</td>\n",
              "      <td>0.615385</td>\n",
              "    </tr>\n",
              "    <tr>\n",
              "      <th>8</th>\n",
              "      <td>2</td>\n",
              "      <td>Further , there was a clinically relevant redu...</td>\n",
              "      <td>0.692308</td>\n",
              "    </tr>\n",
              "    <tr>\n",
              "      <th>9</th>\n",
              "      <td>2</td>\n",
              "      <td>These differences remained significant at @ we...</td>\n",
              "      <td>0.769231</td>\n",
              "    </tr>\n",
              "    <tr>\n",
              "      <th>10</th>\n",
              "      <td>2</td>\n",
              "      <td>The Outcome Measures in Rheumatology Clinical ...</td>\n",
              "      <td>0.846154</td>\n",
              "    </tr>\n",
              "    <tr>\n",
              "      <th>11</th>\n",
              "      <td>3</td>\n",
              "      <td>Low-dose oral prednisolone had both a short-te...</td>\n",
              "      <td>0.923077</td>\n",
              "    </tr>\n",
              "    <tr>\n",
              "      <th>12</th>\n",
              "      <td>4</td>\n",
              "      <td>Emotional eating is associated with overeating...</td>\n",
              "      <td>0.083333</td>\n",
              "    </tr>\n",
              "    <tr>\n",
              "      <th>13</th>\n",
              "      <td>4</td>\n",
              "      <td>Yet , empirical evidence for individual ( trai...</td>\n",
              "      <td>0.166667</td>\n",
              "    </tr>\n",
              "    <tr>\n",
              "      <th>14</th>\n",
              "      <td>0</td>\n",
              "      <td>The aim of this study was to test if attention...</td>\n",
              "      <td>0.250000</td>\n",
              "    </tr>\n",
              "  </tbody>\n",
              "</table>\n",
              "</div>\n",
              "      <button class=\"colab-df-convert\" onclick=\"convertToInteractive('df-ced3ae56-3b4d-491f-bebe-cdf6f58b7a3d')\"\n",
              "              title=\"Convert this dataframe to an interactive table.\"\n",
              "              style=\"display:none;\">\n",
              "        \n",
              "  <svg xmlns=\"http://www.w3.org/2000/svg\" height=\"24px\"viewBox=\"0 0 24 24\"\n",
              "       width=\"24px\">\n",
              "    <path d=\"M0 0h24v24H0V0z\" fill=\"none\"/>\n",
              "    <path d=\"M18.56 5.44l.94 2.06.94-2.06 2.06-.94-2.06-.94-.94-2.06-.94 2.06-2.06.94zm-11 1L8.5 8.5l.94-2.06 2.06-.94-2.06-.94L8.5 2.5l-.94 2.06-2.06.94zm10 10l.94 2.06.94-2.06 2.06-.94-2.06-.94-.94-2.06-.94 2.06-2.06.94z\"/><path d=\"M17.41 7.96l-1.37-1.37c-.4-.4-.92-.59-1.43-.59-.52 0-1.04.2-1.43.59L10.3 9.45l-7.72 7.72c-.78.78-.78 2.05 0 2.83L4 21.41c.39.39.9.59 1.41.59.51 0 1.02-.2 1.41-.59l7.78-7.78 2.81-2.81c.8-.78.8-2.07 0-2.86zM5.41 20L4 18.59l7.72-7.72 1.47 1.35L5.41 20z\"/>\n",
              "  </svg>\n",
              "      </button>\n",
              "      \n",
              "  <style>\n",
              "    .colab-df-container {\n",
              "      display:flex;\n",
              "      flex-wrap:wrap;\n",
              "      gap: 12px;\n",
              "    }\n",
              "\n",
              "    .colab-df-convert {\n",
              "      background-color: #E8F0FE;\n",
              "      border: none;\n",
              "      border-radius: 50%;\n",
              "      cursor: pointer;\n",
              "      display: none;\n",
              "      fill: #1967D2;\n",
              "      height: 32px;\n",
              "      padding: 0 0 0 0;\n",
              "      width: 32px;\n",
              "    }\n",
              "\n",
              "    .colab-df-convert:hover {\n",
              "      background-color: #E2EBFA;\n",
              "      box-shadow: 0px 1px 2px rgba(60, 64, 67, 0.3), 0px 1px 3px 1px rgba(60, 64, 67, 0.15);\n",
              "      fill: #174EA6;\n",
              "    }\n",
              "\n",
              "    [theme=dark] .colab-df-convert {\n",
              "      background-color: #3B4455;\n",
              "      fill: #D2E3FC;\n",
              "    }\n",
              "\n",
              "    [theme=dark] .colab-df-convert:hover {\n",
              "      background-color: #434B5C;\n",
              "      box-shadow: 0px 1px 3px 1px rgba(0, 0, 0, 0.15);\n",
              "      filter: drop-shadow(0px 1px 2px rgba(0, 0, 0, 0.3));\n",
              "      fill: #FFFFFF;\n",
              "    }\n",
              "  </style>\n",
              "\n",
              "      <script>\n",
              "        const buttonEl =\n",
              "          document.querySelector('#df-ced3ae56-3b4d-491f-bebe-cdf6f58b7a3d button.colab-df-convert');\n",
              "        buttonEl.style.display =\n",
              "          google.colab.kernel.accessAllowed ? 'block' : 'none';\n",
              "\n",
              "        async function convertToInteractive(key) {\n",
              "          const element = document.querySelector('#df-ced3ae56-3b4d-491f-bebe-cdf6f58b7a3d');\n",
              "          const dataTable =\n",
              "            await google.colab.kernel.invokeFunction('convertToInteractive',\n",
              "                                                     [key], {});\n",
              "          if (!dataTable) return;\n",
              "\n",
              "          const docLinkHtml = 'Like what you see? Visit the ' +\n",
              "            '<a target=\"_blank\" href=https://colab.research.google.com/notebooks/data_table.ipynb>data table notebook</a>'\n",
              "            + ' to learn more about interactive tables.';\n",
              "          element.innerHTML = '';\n",
              "          dataTable['output_type'] = 'display_data';\n",
              "          await google.colab.output.renderOutput(dataTable, element);\n",
              "          const docLink = document.createElement('div');\n",
              "          docLink.innerHTML = docLinkHtml;\n",
              "          element.appendChild(docLink);\n",
              "        }\n",
              "      </script>\n",
              "    </div>\n",
              "  </div>\n",
              "  "
            ]
          },
          "metadata": {},
          "execution_count": 32
        }
      ]
    },
    {
      "cell_type": "code",
      "source": [
        "#length line in a abstract\n",
        "plt.figure(figsize=(15,10))\n",
        "sns.histplot(x=train_df['text'].apply(lambda x: len(x.split(' '))),bins=50)"
      ],
      "metadata": {
        "id": "htjjKflD-J7R",
        "colab": {
          "base_uri": "https://localhost:8080/",
          "height": 623
        },
        "outputId": "02d7fc67-d95e-45fd-da59-5056fcb0bbf4"
      },
      "execution_count": 26,
      "outputs": [
        {
          "output_type": "execute_result",
          "data": {
            "text/plain": [
              "<matplotlib.axes._subplots.AxesSubplot at 0x7fc7aa96f990>"
            ]
          },
          "metadata": {},
          "execution_count": 26
        },
        {
          "output_type": "display_data",
          "data": {
            "text/plain": [
              "<Figure size 1080x720 with 1 Axes>"
            ],
            "image/png": "[encoded data removed]"
          },
          "metadata": {
            "needs_background": "light"
          }
        }
      ]
    },
    {
      "cell_type": "code",
      "source": [
        "## one hot Encoding The  classes\n",
        "num_classes=train_df['target'].nunique()\n",
        "class_names=list(train_df['target'].unique())\n",
        "train_df['target']=train_df['target'].apply(lambda x: class_names.index(x))\n",
        "def onehotencoding(data,classes):\n",
        "  return tf.one_hot(data,classes)\n",
        "train_labels=onehotencoding(train_df['target'],num_classes)"
      ],
      "metadata": {
        "id": "9Y5AG7QovIhU"
      },
      "execution_count": null,
      "outputs": []
    },
    {
      "cell_type": "code",
      "source": [
        "test_df['target']=test_df['target'].apply(lambda x: class_names.index(x))\n",
        "val_df['target']=val_df['target'].apply(lambda x: class_names.index(x))\n",
        "test_labels=onehotencoding(test_df['target'],num_classes)\n",
        "val_labels=onehotencoding(val_df['target'],num_classes)"
      ],
      "metadata": {
        "id": "L1MLqLo-y8dv"
      },
      "execution_count": 36,
      "outputs": []
    },
    {
      "cell_type": "markdown",
      "source": [
        "## Turning DataFrame to tf.data.dataset for faster computing "
      ],
      "metadata": {
        "id": "LdR_gtSwYOOJ"
      }
    },
    {
      "cell_type": "code",
      "source": [
        "from tensorflow.data import Dataset"
      ],
      "metadata": {
        "id": "F_BP5XS9Xa2F"
      },
      "execution_count": 39,
      "outputs": []
    },
    {
      "cell_type": "code",
      "source": [
        "train_dataset=Dataset.from_tensor_slices((train_df['text'].to_numpy(),train_labels)).batch(32).prefetch(tf.data.AUTOTUNE)\n",
        "test_dataset=Dataset.from_tensor_slices((test_df['text'].to_numpy(),test_labels)).batch(32).prefetch(tf.data.AUTOTUNE)\n",
        "val_dataset=Dataset.from_tensor_slices((val_df['text'].to_numpy(),val_labels)).batch(32).prefetch(tf.data.AUTOTUNE)"
      ],
      "metadata": {
        "id": "oQYtJKAIZT48"
      },
      "execution_count": 40,
      "outputs": []
    },
    {
      "cell_type": "code",
      "source": [
        "train_dataset"
      ],
      "metadata": {
        "colab": {
          "base_uri": "https://localhost:8080/"
        },
        "id": "pvKW2iqEZscX",
        "outputId": "4ebed3e8-ccdf-489b-eb7c-5606ed03c1f1"
      },
      "execution_count": 73,
      "outputs": [
        {
          "output_type": "execute_result",
          "data": {
            "text/plain": [
              "<PrefetchDataset element_spec=(TensorSpec(shape=(None,), dtype=tf.string, name=None), TensorSpec(shape=(None, 5), dtype=tf.float32, name=None))>"
            ]
          },
          "metadata": {},
          "execution_count": 73
        }
      ]
    },
    {
      "cell_type": "markdown",
      "source": [
        "##Modelling using conv1D"
      ],
      "metadata": {
        "id": "wsaJovqda3D8"
      }
    },
    {
      "cell_type": "code",
      "source": [
        "from tensorflow.keras import layers"
      ],
      "metadata": {
        "id": "Jw56yvaua2D1"
      },
      "execution_count": 42,
      "outputs": []
    },
    {
      "cell_type": "code",
      "source": [
        "## creating text vectorizer\n",
        "text_vec = layers.TextVectorization(output_sequence_length=50)\n",
        "text_vec.adapt(train_df['text'])\n",
        "## creating embedding\n",
        "txt_embed = layers.Embedding(len(text_vec.get_vocabulary()),256,mask_zero=True,name=\"token_embedding\")"
      ],
      "metadata": {
        "id": "-1v_aY-5aRzr"
      },
      "execution_count": 77,
      "outputs": []
    },
    {
      "cell_type": "code",
      "source": [
        "##creating model\n",
        "text_input=layers.Input(shape=(1,),name='input_layer',dtype=tf.string)\n",
        "x=text_vec(text_input)\n",
        "x=txt_embed(x)\n",
        "x=layers.Conv1D(64,5,padding='same')(x)\n",
        "x=layers.MaxPool1D(5,padding='same')(x)\n",
        "x=layers.Conv1D(64,5,padding='same')(x)\n",
        "x=layers.MaxPool1D(5,padding='same')(x)\n",
        "x=layers.GlobalAveragePooling1D()(x)\n",
        "x=layers.Dense(10,activation='relu')(x)\n",
        "output=layers.Dense(num_classes,activation='softmax')(x)\n",
        "\n",
        "\n",
        "\n"
      ],
      "metadata": {
        "id": "tGQ7dL7Gi7dM"
      },
      "execution_count": 87,
      "outputs": []
    },
    {
      "cell_type": "code",
      "source": [
        "model1=tf.keras.Model(text_input,output)\n",
        "model1.compile(loss=tf.keras.losses.CategoricalCrossentropy(),optimizer='adam',metrics=['accuracy'])"
      ],
      "metadata": {
        "id": "Fizrz8uTjfe2"
      },
      "execution_count": 88,
      "outputs": []
    },
    {
      "cell_type": "code",
      "source": [
        "model1.summary()"
      ],
      "metadata": {
        "colab": {
          "base_uri": "https://localhost:8080/"
        },
        "id": "qQV2Y2VSmKyh",
        "outputId": "fa1625a6-3a76-4e5a-8bef-8e79053a0684"
      },
      "execution_count": 89,
      "outputs": [
        {
          "output_type": "stream",
          "name": "stdout",
          "text": [
            "Model: \"model_8\"\n",
            "_________________________________________________________________\n",
            " Layer (type)                Output Shape              Param #   \n",
            "=================================================================\n",
            " input_layer (InputLayer)    [(None, 1)]               0         \n",
            "                                                                 \n",
            " text_vectorization_5 (TextV  (None, 50)               0         \n",
            " ectorization)                                                   \n",
            "                                                                 \n",
            " token_embedding (Embedding)  (None, 50, 256)          16599296  \n",
            "                                                                 \n",
            " conv1d_10 (Conv1D)          (None, 50, 64)            81984     \n",
            "                                                                 \n",
            " max_pooling1d_10 (MaxPoolin  (None, 10, 64)           0         \n",
            " g1D)                                                            \n",
            "                                                                 \n",
            " conv1d_11 (Conv1D)          (None, 10, 64)            20544     \n",
            "                                                                 \n",
            " max_pooling1d_11 (MaxPoolin  (None, 2, 64)            0         \n",
            " g1D)                                                            \n",
            "                                                                 \n",
            " global_average_pooling1d_8   (None, 64)               0         \n",
            " (GlobalAveragePooling1D)                                        \n",
            "                                                                 \n",
            " dense_16 (Dense)            (None, 10)                650       \n",
            "                                                                 \n",
            " dense_17 (Dense)            (None, 5)                 55        \n",
            "                                                                 \n",
            "=================================================================\n",
            "Total params: 16,702,529\n",
            "Trainable params: 16,702,529\n",
            "Non-trainable params: 0\n",
            "_________________________________________________________________\n"
          ]
        }
      ]
    },
    {
      "cell_type": "code",
      "source": [
        "from tensorflow.keras.callbacks import EarlyStopping,ModelCheckpoint\n",
        "earlystop=EarlyStopping(monitor='val_accuracy',patience=5,mode='max',verbose=0,restore_best_weights=True)"
      ],
      "metadata": {
        "id": "LHMXiIkom5ug"
      },
      "execution_count": 90,
      "outputs": []
    },
    {
      "cell_type": "code",
      "source": [
        "# Training on only 10% of the data\n",
        "model1.fit(train_dataset,steps_per_epoch=int(0.1*len(train_dataset)),epochs=100,validation_data=val_dataset,validation_steps=int(0.1*(len(val_dataset))),callbacks=[earlystop])"
      ],
      "metadata": {
        "id": "7zo_DGLOmcGp"
      },
      "execution_count": null,
      "outputs": []
    },
    {
      "cell_type": "markdown",
      "source": [
        "## Evaluation"
      ],
      "metadata": {
        "id": "Q6QYuUURm6ne"
      }
    },
    {
      "cell_type": "code",
      "source": [
        "from sklearn.metrics import f1_score,accuracy_score,recall_score,precision_score\n",
        "def measure(pred,value):\n",
        "  eva_dict={'accuracy':accuracy_score(value,pred),'precision':precision_score(value,pred,average='weighted'),'recall':recall_score(value,pred,average='weighted'),'f1_score':f1_score(value,pred,average='weighted')}\n",
        "  print(eva_dict)"
      ],
      "metadata": {
        "id": "e7MoAyNt-ctp"
      },
      "execution_count": 93,
      "outputs": []
    },
    {
      "cell_type": "code",
      "source": [
        "model1.evaluate(val_dataset)"
      ],
      "metadata": {
        "colab": {
          "base_uri": "https://localhost:8080/"
        },
        "id": "Uw1TERBT-lwx",
        "outputId": "8bfb73b8-e434-42fa-9e52-bc6d610a6ff4"
      },
      "execution_count": 94,
      "outputs": [
        {
          "output_type": "stream",
          "name": "stdout",
          "text": [
            "945/945 [==============================] - 8s 8ms/step - loss: 0.4800 - accuracy: 0.8234\n"
          ]
        },
        {
          "output_type": "execute_result",
          "data": {
            "text/plain": [
              "[0.48002520203590393, 0.8233814239501953]"
            ]
          },
          "metadata": {},
          "execution_count": 94
        }
      ]
    },
    {
      "cell_type": "code",
      "source": [
        "pred=model1.predict(test_df['text'])"
      ],
      "metadata": {
        "id": "vFJk_2pp-v24"
      },
      "execution_count": 95,
      "outputs": []
    },
    {
      "cell_type": "code",
      "source": [
        "pred=tf.argmax(pred,axis=1)"
      ],
      "metadata": {
        "id": "Ra92ucJe-_2I"
      },
      "execution_count": 100,
      "outputs": []
    },
    {
      "cell_type": "code",
      "source": [
        "measure(pred,test_df['target'])"
      ],
      "metadata": {
        "colab": {
          "base_uri": "https://localhost:8080/"
        },
        "id": "xvYpnwIr_H2k",
        "outputId": "285be823-2af7-4ac8-82db-8734acef80f3"
      },
      "execution_count": 103,
      "outputs": [
        {
          "output_type": "stream",
          "name": "stdout",
          "text": [
            "{'accuracy': 0.8160610585697694, 'precision': 0.8185812373828328, 'recall': 0.8160610585697694, 'f1_score': 0.812620223587036}\n"
          ]
        }
      ]
    },
    {
      "cell_type": "code",
      "source": [
        ""
      ],
      "metadata": {
        "id": "h2xdIKGWAA_I"
      },
      "execution_count": null,
      "outputs": []
    }
  ]
}