{
  "nbformat": 4,
  "nbformat_minor": 0,
  "metadata": {
    "colab": {
      "name": "Model4_multi_input.ipynb",
      "provenance": [],
      "collapsed_sections": []
    },
    "kernelspec": {
      "name": "python3",
      "display_name": "Python 3"
    },
    "language_info": {
      "name": "python"
    },
    "accelerator": "GPU"
  },
  "cells": [
    {
      "cell_type": "markdown",
      "source": [
        "## Importing Libraries"
      ],
      "metadata": {
        "id": "Tv11RtD5wIGP"
      }
    },
    {
      "cell_type": "code",
      "execution_count": null,
      "metadata": {
        "id": "R3iMwacOD75I"
      },
      "outputs": [],
      "source": [
        "import tensorflow as tf\n",
        "import numpy as np\n",
        "import pandas as pd \n",
        "import matplotlib.pyplot as plt\n",
        "import seaborn as sns\n",
        "% matplotlib inline\n"
      ]
    },
    {
      "cell_type": "markdown",
      "source": [
        "## Getting Data for repo (Note: downloading 20k rct data to find the best preforming model)\n",
        "\n"
      ],
      "metadata": {
        "id": "tAUzt_D9ydi5"
      }
    },
    {
      "cell_type": "code",
      "source": [
        "##Getting Train data for rct 20k\n",
        "! wget https://raw.githubusercontent.com/average-joe25/scientific-abstract-classifier/main/data/PubMed_20k_RCT_numbers_replaced_with_at_sign/train.txt\n",
        "##Getting validation data for rct 20k\n",
        "! wget https://raw.githubusercontent.com/average-joe25/scientific-abstract-classifier/main/data/PubMed_20k_RCT_numbers_replaced_with_at_sign/dev.txt\n",
        "## Getting test data for rct 20k\n",
        "! wget https://raw.githubusercontent.com/average-joe25/scientific-abstract-classifier/main/data/PubMed_20k_RCT_numbers_replaced_with_at_sign/test.txt"
      ],
      "metadata": {
        "colab": {
          "base_uri": "https://localhost:8080/"
        },
        "id": "YSMu-YB_xP3y",
        "outputId": "e2ba81f1-7855-4444-d53f-d62784b014ef"
      },
      "execution_count": null,
      "outputs": [
        {
          "output_type": "stream",
          "name": "stdout",
          "text": [
            "--2022-05-09 15:37:38--  https://raw.githubusercontent.com/average-joe25/scientific-abstract-classifier/main/data/PubMed_20k_RCT_numbers_replaced_with_at_sign/train.txt\n",
            "Resolving raw.githubusercontent.com (raw.githubusercontent.com)... 185.199.108.133, 185.199.109.133, 185.199.111.133, ...\n",
            "Connecting to raw.githubusercontent.com (raw.githubusercontent.com)|185.199.108.133|:443... connected.\n",
            "HTTP request sent, awaiting response... 200 OK\n",
            "Length: 28908792 (28M) [text/plain]\n",
            "Saving to: ‘train.txt’\n",
            "\n",
            "train.txt           100%[===================>]  27.57M   146MB/s    in 0.2s    \n",
            "\n",
            "2022-05-09 15:37:40 (146 MB/s) - ‘train.txt’ saved [28908792/28908792]\n",
            "\n",
            "--2022-05-09 15:37:40--  https://raw.githubusercontent.com/average-joe25/scientific-abstract-classifier/main/data/PubMed_20k_RCT_numbers_replaced_with_at_sign/dev.txt\n",
            "Resolving raw.githubusercontent.com (raw.githubusercontent.com)... 185.199.108.133, 185.199.109.133, 185.199.110.133, ...\n",
            "Connecting to raw.githubusercontent.com (raw.githubusercontent.com)|185.199.108.133|:443... connected.\n",
            "HTTP request sent, awaiting response... 200 OK\n",
            "Length: 4845197 (4.6M) [text/plain]\n",
            "Saving to: ‘dev.txt’\n",
            "\n",
            "dev.txt             100%[===================>]   4.62M  --.-KB/s    in 0.09s   \n",
            "\n",
            "2022-05-09 15:37:43 (51.1 MB/s) - ‘dev.txt’ saved [4845197/4845197]\n",
            "\n",
            "--2022-05-09 15:37:43--  https://raw.githubusercontent.com/average-joe25/scientific-abstract-classifier/main/data/PubMed_20k_RCT_numbers_replaced_with_at_sign/test.txt\n",
            "Resolving raw.githubusercontent.com (raw.githubusercontent.com)... 185.199.108.133, 185.199.109.133, 185.199.111.133, ...\n",
            "Connecting to raw.githubusercontent.com (raw.githubusercontent.com)|185.199.108.133|:443... connected.\n",
            "HTTP request sent, awaiting response... 200 OK\n",
            "Length: 4811369 (4.6M) [text/plain]\n",
            "Saving to: ‘test.txt’\n",
            "\n",
            "test.txt            100%[===================>]   4.59M  --.-KB/s    in 0.09s   \n",
            "\n",
            "2022-05-09 15:37:44 (50.0 MB/s) - ‘test.txt’ saved [4811369/4811369]\n",
            "\n"
          ]
        }
      ]
    },
    {
      "cell_type": "code",
      "source": [
        "## moving them to new folder\n",
        "! mkdir rct20k\n",
        "! mv dev.txt rct20k/\n",
        "! mv train.txt rct20k/\n",
        "! mv test.txt rct20k/"
      ],
      "metadata": {
        "id": "ec793t3NzE1z"
      },
      "execution_count": null,
      "outputs": []
    },
    {
      "cell_type": "markdown",
      "source": [
        "## EDA and visualization of Data"
      ],
      "metadata": {
        "id": "RmwDtP_RzpF7"
      }
    },
    {
      "cell_type": "code",
      "source": [
        "##Getting lines from the files\n",
        "def get_data(dataset_type,rct_type):\n",
        "  parent_folder='/content/'\n",
        "  with open(str(parent_folder+rct_type+\"/\"+dataset_type),'r') as f:\n",
        "    list_lines= f.readlines()\n",
        "    return list_lines"
      ],
      "metadata": {
        "id": "9s_jxMKWzh-D"
      },
      "execution_count": null,
      "outputs": []
    },
    {
      "cell_type": "code",
      "source": [
        "train_lines_20k=get_data(\"train.txt\",\"rct20k\")\n",
        "test_lines_20k=get_data(\"test.txt\",\"rct20k\")\n",
        "val_lines_20k=get_data(\"dev.txt\",\"rct20k\")"
      ],
      "metadata": {
        "id": "ouZhEgBz2Rfx"
      },
      "execution_count": null,
      "outputs": []
    },
    {
      "cell_type": "code",
      "source": [
        "len(train_lines_20k),len(test_lines_20k),len(val_lines_20k)"
      ],
      "metadata": {
        "id": "ZtfuSwJP0ctu",
        "colab": {
          "base_uri": "https://localhost:8080/"
        },
        "outputId": "75ded33f-1647-4940-e35d-fc0d27cbe5f3"
      },
      "execution_count": null,
      "outputs": [
        {
          "output_type": "execute_result",
          "data": {
            "text/plain": [
              "(210040, 35135, 35212)"
            ]
          },
          "metadata": {},
          "execution_count": 6
        }
      ]
    },
    {
      "cell_type": "code",
      "source": [
        "## function to create dataframe from lines\n",
        "def convert_to_df(lines):\n",
        "  abstract_size=0\n",
        "  dict_list=[]\n",
        "  abstract=[]\n",
        "  list_abstract=[]\n",
        "  for line in lines:\n",
        "    if(line.startswith(\"###\")):\n",
        "      if(len(abstract)!=0):\n",
        "        list_abstract.append(abstract)\n",
        "      abstract=[]\n",
        "    else:\n",
        "      abstract.append(line)\n",
        "  list_abstract.append(abstract)\n",
        "  for new_abstract in list_abstract:\n",
        "    count=0\n",
        "    for line in new_abstract:\n",
        "      count+=1\n",
        "      splitted=line.split('\\t')\n",
        "      if(splitted[0]=='\\n'):\n",
        "        continue\n",
        "      category=splitted[0]\n",
        "      text=splitted[1]\n",
        "      dict_list.append({'target':category,'text':text,'location':float(count/len(new_abstract))})\n",
        "  list_df=pd.DataFrame(dict_list)\n",
        "  return list_df\n"
      ],
      "metadata": {
        "id": "3htpJ72Y27t7"
      },
      "execution_count": null,
      "outputs": []
    },
    {
      "cell_type": "code",
      "source": [
        "##convert lines to dataframe\n",
        "train_df=convert_to_df(train_lines_20k)\n",
        "val_df=convert_to_df(val_lines_20k)\n",
        "test_df=convert_to_df(test_lines_20k)"
      ],
      "metadata": {
        "id": "EHsWRcET7z5k"
      },
      "execution_count": null,
      "outputs": []
    },
    {
      "cell_type": "code",
      "source": [
        "train_df.head(15)"
      ],
      "metadata": {
        "colab": {
          "base_uri": "https://localhost:8080/",
          "height": 520
        },
        "id": "7JxPRl7j8m7Q",
        "outputId": "07a5767f-0b86-4f0a-d4ed-f6c0a7b629ad"
      },
      "execution_count": null,
      "outputs": [
        {
          "output_type": "execute_result",
          "data": {
            "text/plain": [
              "         target                                               text  location\n",
              "0     OBJECTIVE  To investigate the efficacy of @ weeks of dail...  0.076923\n",
              "1       METHODS  A total of @ patients with primary knee OA wer...  0.153846\n",
              "2       METHODS  Outcome measures included pain reduction and i...  0.230769\n",
              "3       METHODS  Pain was assessed using the visual analog pain...  0.307692\n",
              "4       METHODS  Secondary outcome measures included the Wester...  0.384615\n",
              "5       METHODS  Serum levels of interleukin @ ( IL-@ ) , IL-@ ...  0.461538\n",
              "6       RESULTS  There was a clinically relevant reduction in t...  0.538462\n",
              "7       RESULTS  The mean difference between treatment arms ( @...  0.615385\n",
              "8       RESULTS  Further , there was a clinically relevant redu...  0.692308\n",
              "9       RESULTS  These differences remained significant at @ we...  0.769231\n",
              "10      RESULTS  The Outcome Measures in Rheumatology Clinical ...  0.846154\n",
              "11  CONCLUSIONS  Low-dose oral prednisolone had both a short-te...  0.923077\n",
              "12   BACKGROUND  Emotional eating is associated with overeating...  0.083333\n",
              "13   BACKGROUND  Yet , empirical evidence for individual ( trai...  0.166667\n",
              "14    OBJECTIVE  The aim of this study was to test if attention...  0.250000"
            ],
            "text/html": [
              "\n",
              "  <div id=\"df-a1bfb053-b7c0-4428-b5d7-fc341412e576\">\n",
              "    <div class=\"colab-df-container\">\n",
              "      <div>\n",
              "<style scoped>\n",
              "    .dataframe tbody tr th:only-of-type {\n",
              "        vertical-align: middle;\n",
              "    }\n",
              "\n",
              "    .dataframe tbody tr th {\n",
              "        vertical-align: top;\n",
              "    }\n",
              "\n",
              "    .dataframe thead th {\n",
              "        text-align: right;\n",
              "    }\n",
              "</style>\n",
              "<table border=\"1\" class=\"dataframe\">\n",
              "  <thead>\n",
              "    <tr style=\"text-align: right;\">\n",
              "      <th></th>\n",
              "      <th>target</th>\n",
              "      <th>text</th>\n",
              "      <th>location</th>\n",
              "    </tr>\n",
              "  </thead>\n",
              "  <tbody>\n",
              "    <tr>\n",
              "      <th>0</th>\n",
              "      <td>OBJECTIVE</td>\n",
              "      <td>To investigate the efficacy of @ weeks of dail...</td>\n",
              "      <td>0.076923</td>\n",
              "    </tr>\n",
              "    <tr>\n",
              "      <th>1</th>\n",
              "      <td>METHODS</td>\n",
              "      <td>A total of @ patients with primary knee OA wer...</td>\n",
              "      <td>0.153846</td>\n",
              "    </tr>\n",
              "    <tr>\n",
              "      <th>2</th>\n",
              "      <td>METHODS</td>\n",
              "      <td>Outcome measures included pain reduction and i...</td>\n",
              "      <td>0.230769</td>\n",
              "    </tr>\n",
              "    <tr>\n",
              "      <th>3</th>\n",
              "      <td>METHODS</td>\n",
              "      <td>Pain was assessed using the visual analog pain...</td>\n",
              "      <td>0.307692</td>\n",
              "    </tr>\n",
              "    <tr>\n",
              "      <th>4</th>\n",
              "      <td>METHODS</td>\n",
              "      <td>Secondary outcome measures included the Wester...</td>\n",
              "      <td>0.384615</td>\n",
              "    </tr>\n",
              "    <tr>\n",
              "      <th>5</th>\n",
              "      <td>METHODS</td>\n",
              "      <td>Serum levels of interleukin @ ( IL-@ ) , IL-@ ...</td>\n",
              "      <td>0.461538</td>\n",
              "    </tr>\n",
              "    <tr>\n",
              "      <th>6</th>\n",
              "      <td>RESULTS</td>\n",
              "      <td>There was a clinically relevant reduction in t...</td>\n",
              "      <td>0.538462</td>\n",
              "    </tr>\n",
              "    <tr>\n",
              "      <th>7</th>\n",
              "      <td>RESULTS</td>\n",
              "      <td>The mean difference between treatment arms ( @...</td>\n",
              "      <td>0.615385</td>\n",
              "    </tr>\n",
              "    <tr>\n",
              "      <th>8</th>\n",
              "      <td>RESULTS</td>\n",
              "      <td>Further , there was a clinically relevant redu...</td>\n",
              "      <td>0.692308</td>\n",
              "    </tr>\n",
              "    <tr>\n",
              "      <th>9</th>\n",
              "      <td>RESULTS</td>\n",
              "      <td>These differences remained significant at @ we...</td>\n",
              "      <td>0.769231</td>\n",
              "    </tr>\n",
              "    <tr>\n",
              "      <th>10</th>\n",
              "      <td>RESULTS</td>\n",
              "      <td>The Outcome Measures in Rheumatology Clinical ...</td>\n",
              "      <td>0.846154</td>\n",
              "    </tr>\n",
              "    <tr>\n",
              "      <th>11</th>\n",
              "      <td>CONCLUSIONS</td>\n",
              "      <td>Low-dose oral prednisolone had both a short-te...</td>\n",
              "      <td>0.923077</td>\n",
              "    </tr>\n",
              "    <tr>\n",
              "      <th>12</th>\n",
              "      <td>BACKGROUND</td>\n",
              "      <td>Emotional eating is associated with overeating...</td>\n",
              "      <td>0.083333</td>\n",
              "    </tr>\n",
              "    <tr>\n",
              "      <th>13</th>\n",
              "      <td>BACKGROUND</td>\n",
              "      <td>Yet , empirical evidence for individual ( trai...</td>\n",
              "      <td>0.166667</td>\n",
              "    </tr>\n",
              "    <tr>\n",
              "      <th>14</th>\n",
              "      <td>OBJECTIVE</td>\n",
              "      <td>The aim of this study was to test if attention...</td>\n",
              "      <td>0.250000</td>\n",
              "    </tr>\n",
              "  </tbody>\n",
              "</table>\n",
              "</div>\n",
              "      <button class=\"colab-df-convert\" onclick=\"convertToInteractive('df-a1bfb053-b7c0-4428-b5d7-fc341412e576')\"\n",
              "              title=\"Convert this dataframe to an interactive table.\"\n",
              "              style=\"display:none;\">\n",
              "        \n",
              "  <svg xmlns=\"http://www.w3.org/2000/svg\" height=\"24px\"viewBox=\"0 0 24 24\"\n",
              "       width=\"24px\">\n",
              "    <path d=\"M0 0h24v24H0V0z\" fill=\"none\"/>\n",
              "    <path d=\"M18.56 5.44l.94 2.06.94-2.06 2.06-.94-2.06-.94-.94-2.06-.94 2.06-2.06.94zm-11 1L8.5 8.5l.94-2.06 2.06-.94-2.06-.94L8.5 2.5l-.94 2.06-2.06.94zm10 10l.94 2.06.94-2.06 2.06-.94-2.06-.94-.94-2.06-.94 2.06-2.06.94z\"/><path d=\"M17.41 7.96l-1.37-1.37c-.4-.4-.92-.59-1.43-.59-.52 0-1.04.2-1.43.59L10.3 9.45l-7.72 7.72c-.78.78-.78 2.05 0 2.83L4 21.41c.39.39.9.59 1.41.59.51 0 1.02-.2 1.41-.59l7.78-7.78 2.81-2.81c.8-.78.8-2.07 0-2.86zM5.41 20L4 18.59l7.72-7.72 1.47 1.35L5.41 20z\"/>\n",
              "  </svg>\n",
              "      </button>\n",
              "      \n",
              "  <style>\n",
              "    .colab-df-container {\n",
              "      display:flex;\n",
              "      flex-wrap:wrap;\n",
              "      gap: 12px;\n",
              "    }\n",
              "\n",
              "    .colab-df-convert {\n",
              "      background-color: #E8F0FE;\n",
              "      border: none;\n",
              "      border-radius: 50%;\n",
              "      cursor: pointer;\n",
              "      display: none;\n",
              "      fill: #1967D2;\n",
              "      height: 32px;\n",
              "      padding: 0 0 0 0;\n",
              "      width: 32px;\n",
              "    }\n",
              "\n",
              "    .colab-df-convert:hover {\n",
              "      background-color: #E2EBFA;\n",
              "      box-shadow: 0px 1px 2px rgba(60, 64, 67, 0.3), 0px 1px 3px 1px rgba(60, 64, 67, 0.15);\n",
              "      fill: #174EA6;\n",
              "    }\n",
              "\n",
              "    [theme=dark] .colab-df-convert {\n",
              "      background-color: #3B4455;\n",
              "      fill: #D2E3FC;\n",
              "    }\n",
              "\n",
              "    [theme=dark] .colab-df-convert:hover {\n",
              "      background-color: #434B5C;\n",
              "      box-shadow: 0px 1px 3px 1px rgba(0, 0, 0, 0.15);\n",
              "      filter: drop-shadow(0px 1px 2px rgba(0, 0, 0, 0.3));\n",
              "      fill: #FFFFFF;\n",
              "    }\n",
              "  </style>\n",
              "\n",
              "      <script>\n",
              "        const buttonEl =\n",
              "          document.querySelector('#df-a1bfb053-b7c0-4428-b5d7-fc341412e576 button.colab-df-convert');\n",
              "        buttonEl.style.display =\n",
              "          google.colab.kernel.accessAllowed ? 'block' : 'none';\n",
              "\n",
              "        async function convertToInteractive(key) {\n",
              "          const element = document.querySelector('#df-a1bfb053-b7c0-4428-b5d7-fc341412e576');\n",
              "          const dataTable =\n",
              "            await google.colab.kernel.invokeFunction('convertToInteractive',\n",
              "                                                     [key], {});\n",
              "          if (!dataTable) return;\n",
              "\n",
              "          const docLinkHtml = 'Like what you see? Visit the ' +\n",
              "            '<a target=\"_blank\" href=https://colab.research.google.com/notebooks/data_table.ipynb>data table notebook</a>'\n",
              "            + ' to learn more about interactive tables.';\n",
              "          element.innerHTML = '';\n",
              "          dataTable['output_type'] = 'display_data';\n",
              "          await google.colab.output.renderOutput(dataTable, element);\n",
              "          const docLink = document.createElement('div');\n",
              "          docLink.innerHTML = docLinkHtml;\n",
              "          element.appendChild(docLink);\n",
              "        }\n",
              "      </script>\n",
              "    </div>\n",
              "  </div>\n",
              "  "
            ]
          },
          "metadata": {},
          "execution_count": 9
        }
      ]
    },
    {
      "cell_type": "code",
      "source": [
        "#length line in a abstract\n",
        "plt.figure(figsize=(15,10))\n",
        "sns.histplot(x=train_df['text'].apply(lambda x: len(x.split(' '))),bins=50)"
      ],
      "metadata": {
        "id": "htjjKflD-J7R",
        "colab": {
          "base_uri": "https://localhost:8080/",
          "height": 623
        },
        "outputId": "dee3e16e-4849-4c5f-9331-4cbf9e18d1f9"
      },
      "execution_count": null,
      "outputs": [
        {
          "output_type": "execute_result",
          "data": {
            "text/plain": [
              "<matplotlib.axes._subplots.AxesSubplot at 0x7f1204600e90>"
            ]
          },
          "metadata": {},
          "execution_count": 10
        },
        {
          "output_type": "display_data",
          "data": {
            "text/plain": [
              "<Figure size 1080x720 with 1 Axes>"
            ],
            "image/png": "[encoded data removed]"
          },
          "metadata": {
            "needs_background": "light"
          }
        }
      ]
    },
    {
      "cell_type": "code",
      "source": [
        "## Shortening all sentence to max length of 50\n",
        "def shorten(text):\n",
        "  lists=text.split(\" \")\n",
        "  size=np.minimum(50,len(lists))\n",
        "  t = \" \".join(lists[:size])\n",
        "  return t\n",
        "train_df['text']=train_df['text'].apply(shorten)\n",
        "test_df['text']=test_df['text'].apply(shorten)\n",
        "val_df['text']=val_df['text'].apply(shorten)"
      ],
      "metadata": {
        "id": "3IzZ0acMkao6"
      },
      "execution_count": null,
      "outputs": []
    },
    {
      "cell_type": "code",
      "source": [
        "plt.figure(figsize=(15,10))\n",
        "sns.histplot(x=train_df['text'].apply(lambda x: len(x.split(' '))),bins=50)"
      ],
      "metadata": {
        "colab": {
          "base_uri": "https://localhost:8080/",
          "height": 623
        },
        "id": "8VtrUAN9mGiT",
        "outputId": "ccea1dac-ae6d-4eee-97f4-bc877f75b2d2"
      },
      "execution_count": null,
      "outputs": [
        {
          "output_type": "execute_result",
          "data": {
            "text/plain": [
              "<matplotlib.axes._subplots.AxesSubplot at 0x7f11fb266250>"
            ]
          },
          "metadata": {},
          "execution_count": 12
        },
        {
          "output_type": "display_data",
          "data": {
            "text/plain": [
              "<Figure size 1080x720 with 1 Axes>"
            ],
            "image/png": "[encoded data removed]"
          },
          "metadata": {
            "needs_background": "light"
          }
        }
      ]
    },
    {
      "cell_type": "code",
      "source": [
        "## one hot Encoding The  classes\n",
        "num_classes=train_df['target'].nunique()\n",
        "class_names=list(train_df['target'].unique())\n",
        "train_df['target']=train_df['target'].apply(lambda x: class_names.index(x))\n",
        "def onehotencoding(data,classes):\n",
        "  return tf.one_hot(data,classes)\n",
        "train_labels=onehotencoding(train_df['target'],num_classes)"
      ],
      "metadata": {
        "id": "9Y5AG7QovIhU"
      },
      "execution_count": null,
      "outputs": []
    },
    {
      "cell_type": "code",
      "source": [
        "test_df['target']=test_df['target'].apply(lambda x: class_names.index(x))\n",
        "val_df['target']=val_df['target'].apply(lambda x: class_names.index(x))\n",
        "test_labels=onehotencoding(test_df['target'],num_classes)\n",
        "val_labels=onehotencoding(val_df['target'],num_classes)"
      ],
      "metadata": {
        "id": "L1MLqLo-y8dv"
      },
      "execution_count": null,
      "outputs": []
    },
    {
      "cell_type": "markdown",
      "source": [
        "## Creating data for character encoding"
      ],
      "metadata": {
        "id": "dnF9XZIKeK7o"
      }
    },
    {
      "cell_type": "code",
      "source": [
        "def CharTransform(x):\n",
        "  return \" \".join(list(x))\n",
        "train_df['char_text']=train_df['text'].apply(CharTransform)\n",
        "val_df['char_text']=val_df['text'].apply(CharTransform)\n",
        "test_df['char_text']=test_df['text'].apply(CharTransform)\n"
      ],
      "metadata": {
        "id": "UqhUqQffeKJa"
      },
      "execution_count": null,
      "outputs": []
    },
    {
      "cell_type": "markdown",
      "source": [
        "## Turning DataFrame to tf.data.dataset for faster computing "
      ],
      "metadata": {
        "id": "LdR_gtSwYOOJ"
      }
    },
    {
      "cell_type": "code",
      "source": [
        "from tensorflow.data import Dataset"
      ],
      "metadata": {
        "id": "F_BP5XS9Xa2F"
      },
      "execution_count": null,
      "outputs": []
    },
    {
      "cell_type": "code",
      "source": [
        "train_labels_dataset=Dataset.from_tensor_slices(train_labels)\n",
        "val_labels_dataset=Dataset.from_tensor_slices(val_labels)\n",
        "test_labels_dataset=Dataset.from_tensor_slices(test_labels)"
      ],
      "metadata": {
        "id": "5cvCjuGFhuit"
      },
      "execution_count": 23,
      "outputs": []
    },
    {
      "cell_type": "code",
      "source": [
        ""
      ],
      "metadata": {
        "id": "toWMqfhDq6Jy"
      },
      "execution_count": null,
      "outputs": []
    },
    {
      "cell_type": "code",
      "source": [
        "train_dataset=Dataset.zip((Dataset.from_tensor_slices((train_df['text'].to_numpy(),train_df['char_text'].to_numpy(),train_df['location'].to_numpy())),train_labels_dataset)).batch(32).prefetch(tf.data.AUTOTUNE)\n",
        "val_dataset=Dataset.zip((Dataset.from_tensor_slices((val_df['text'].to_numpy(),val_df['char_text'].to_numpy(),val_df['location'].to_numpy())),val_labels_dataset)).batch(32).prefetch(tf.data.AUTOTUNE)\n",
        "test_dataset=Dataset.zip((Dataset.from_tensor_slices((test_df['text'].to_numpy(),test_df['char_text'].to_numpy(),test_df['location'].to_numpy())),test_labels_dataset)).batch(32).prefetch(tf.data.AUTOTUNE)"
      ],
      "metadata": {
        "id": "oQYtJKAIZT48"
      },
      "execution_count": 84,
      "outputs": []
    },
    {
      "cell_type": "code",
      "source": [
        "train_dataset"
      ],
      "metadata": {
        "colab": {
          "base_uri": "https://localhost:8080/"
        },
        "id": "pvKW2iqEZscX",
        "outputId": "127ae129-fcc8-4c13-88dc-2c8bda99d223"
      },
      "execution_count": 67,
      "outputs": [
        {
          "output_type": "execute_result",
          "data": {
            "text/plain": [
              "<PrefetchDataset element_spec=((TensorSpec(shape=(None,), dtype=tf.string, name=None), TensorSpec(shape=(None,), dtype=tf.string, name=None)), TensorSpec(shape=(None, 5), dtype=tf.float32, name=None))>"
            ]
          },
          "metadata": {},
          "execution_count": 67
        }
      ]
    },
    {
      "cell_type": "markdown",
      "source": [
        "## Modelling using LSTM"
      ],
      "metadata": {
        "id": "7VYjqKiHC9IN"
      }
    },
    {
      "cell_type": "code",
      "source": [
        "from tensorflow.keras import layers\n",
        "from tensorflow.keras.optimizers import Adam,RMSprop\n",
        "from tensorflow.keras.callbacks import EarlyStopping,ModelCheckpoint"
      ],
      "metadata": {
        "id": "fkMvKkvbDB80"
      },
      "execution_count": 68,
      "outputs": []
    },
    {
      "cell_type": "code",
      "source": [
        "#text vectorizor layer\n",
        "text_vec=layers.TextVectorization(max_tokens=5000,output_sequence_length=50,name=\"text_vectorization\")\n",
        "text_vec.adapt(train_df['text'])"
      ],
      "metadata": {
        "id": "Z0hh4v3tnL_g"
      },
      "execution_count": 69,
      "outputs": []
    },
    {
      "cell_type": "code",
      "source": [
        "#character vectorization\n",
        "char_vec=layers.TextVectorization(output_sequence_length=50,name=\"char_vectorization\")\n",
        "char_vec.adapt(train_df['char_text'])"
      ],
      "metadata": {
        "id": "hPNEF8Nritq1"
      },
      "execution_count": 70,
      "outputs": []
    },
    {
      "cell_type": "code",
      "source": [
        "# Creating Text Embedding\n",
        "text_embed=layers.Embedding(len(text_vec.get_vocabulary()),256,mask_zero=True,name=\"text_embedding\")"
      ],
      "metadata": {
        "id": "mBvo9VqzoSjb"
      },
      "execution_count": 31,
      "outputs": []
    },
    {
      "cell_type": "code",
      "source": [
        "#Creating Character Embedding\n",
        "char_embed=layers.Embedding(len(char_vec.get_vocabulary()),256,mask_zero=True,name=\"char_embedding\")"
      ],
      "metadata": {
        "id": "dJr7nEMyjBRQ"
      },
      "execution_count": 33,
      "outputs": []
    },
    {
      "cell_type": "code",
      "source": [
        "## text Modelling\n",
        "text_Input = layers.Input(shape=(1,),dtype=tf.string,name=\"text_Input\")\n",
        "x = text_vec(text_Input)\n",
        "x = text_embed(x)\n",
        "text_output = layers.Bidirectional(layers.LSTM(128),name=\"text_LSTM\")(x)\n",
        "text_model = tf.keras.Model(inputs=text_Input,outputs=text_output)"
      ],
      "metadata": {
        "id": "9IYU2t4Nm-Yt"
      },
      "execution_count": 71,
      "outputs": []
    },
    {
      "cell_type": "code",
      "source": [
        "## char Modelling\n",
        "char_Input = layers.Input(shape=(1,),dtype=tf.string,name=\"char_Input\")\n",
        "y = char_vec(char_Input)\n",
        "y = char_embed(y)\n",
        "char_output = layers.Bidirectional(layers.LSTM(128),name=\"Char_LSTM\")(y)\n",
        "char_model = tf.keras.Model(inputs=char_Input,outputs=char_output)"
      ],
      "metadata": {
        "id": "IMxCL_ebj-ep"
      },
      "execution_count": 72,
      "outputs": []
    },
    {
      "cell_type": "code",
      "source": [
        "## location Modelling \n",
        "loc_Input = layers.Input(shape=(1,),name=\"Location_Input\")\n",
        "k = layers.Dense(10,activation='relu')(loc_Input)\n",
        "k = layers.Dense(10,activation='relu')(k)\n",
        "loc_output = layers.Dense(num_classes,activation='relu',name='Location_Output')(k)\n",
        "loc_model = tf.keras.Model(inputs=loc_Input,outputs=loc_output)"
      ],
      "metadata": {
        "id": "S09mSDI1rijQ"
      },
      "execution_count": 92,
      "outputs": []
    },
    {
      "cell_type": "code",
      "source": [
        "## Main Model\n",
        "z=layers.concatenate((text_model.output,char_model.output))\n",
        "z=layers.Dense(512,activation='relu')(z)\n",
        "z=layers.Dense(1024,activation='relu')(z)\n",
        "z=layers.Dense(1024,activation='relu')(z)\n",
        "z=layers.Dropout(0.5)(z)\n",
        "z=layers.concatenate((z,loc_model.output))\n",
        "Output=layers.Dense(num_classes,activation='softmax')(z)"
      ],
      "metadata": {
        "id": "FkyQYm8okZHQ"
      },
      "execution_count": 93,
      "outputs": []
    },
    {
      "cell_type": "code",
      "source": [
        "Model4 = tf.keras.Model((text_model.input,char_model.input,loc_model.input),Output)\n",
        "Model4.compile(loss=tf.keras.losses.CategoricalCrossentropy(),optimizer=Adam(),metrics=['accuracy'])\n",
        "Model4.summary()"
      ],
      "metadata": {
        "colab": {
          "base_uri": "https://localhost:8080/"
        },
        "id": "2BeN-MORp_2t",
        "outputId": "d8cb367d-caee-42a4-a5b3-95dc98502189"
      },
      "execution_count": 103,
      "outputs": [
        {
          "output_type": "stream",
          "name": "stdout",
          "text": [
            "Model: \"model_17\"\n",
            "__________________________________________________________________________________________________\n",
            " Layer (type)                   Output Shape         Param #     Connected to                     \n",
            "==================================================================================================\n",
            " text_Input (InputLayer)        [(None, 1)]          0           []                               \n",
            "                                                                                                  \n",
            " char_Input (InputLayer)        [(None, 1)]          0           []                               \n",
            "                                                                                                  \n",
            " text_vectorization (TextVector  (None, 50)          0           ['text_Input[0][0]']             \n",
            " ization)                                                                                         \n",
            "                                                                                                  \n",
            " char_vectorization (TextVector  (None, 50)          0           ['char_Input[0][0]']             \n",
            " ization)                                                                                         \n",
            "                                                                                                  \n",
            " text_embedding (Embedding)     (None, 50, 256)      1280000     ['text_vectorization[0][0]']     \n",
            "                                                                                                  \n",
            " char_embedding (Embedding)     (None, 50, 256)      7168        ['char_vectorization[0][0]']     \n",
            "                                                                                                  \n",
            " text_LSTM (Bidirectional)      (None, 256)          394240      ['text_embedding[6][0]']         \n",
            "                                                                                                  \n",
            " Char_LSTM (Bidirectional)      (None, 256)          394240      ['char_embedding[6][0]']         \n",
            "                                                                                                  \n",
            " concatenate_8 (Concatenate)    (None, 512)          0           ['text_LSTM[0][0]',              \n",
            "                                                                  'Char_LSTM[0][0]']              \n",
            "                                                                                                  \n",
            " dense_29 (Dense)               (None, 512)          262656      ['concatenate_8[0][0]']          \n",
            "                                                                                                  \n",
            " Location_Input (InputLayer)    [(None, 1)]          0           []                               \n",
            "                                                                                                  \n",
            " dense_30 (Dense)               (None, 1024)         525312      ['dense_29[0][0]']               \n",
            "                                                                                                  \n",
            " dense_27 (Dense)               (None, 10)           20          ['Location_Input[0][0]']         \n",
            "                                                                                                  \n",
            " dense_31 (Dense)               (None, 1024)         1049600     ['dense_30[0][0]']               \n",
            "                                                                                                  \n",
            " dense_28 (Dense)               (None, 10)           110         ['dense_27[0][0]']               \n",
            "                                                                                                  \n",
            " dropout_2 (Dropout)            (None, 1024)         0           ['dense_31[0][0]']               \n",
            "                                                                                                  \n",
            " Location_Output (Dense)        (None, 5)            55          ['dense_28[0][0]']               \n",
            "                                                                                                  \n",
            " concatenate_9 (Concatenate)    (None, 1029)         0           ['dropout_2[0][0]',              \n",
            "                                                                  'Location_Output[0][0]']        \n",
            "                                                                                                  \n",
            " dense_32 (Dense)               (None, 5)            5150        ['concatenate_9[0][0]']          \n",
            "                                                                                                  \n",
            "==================================================================================================\n",
            "Total params: 3,918,551\n",
            "Trainable params: 3,918,551\n",
            "Non-trainable params: 0\n",
            "__________________________________________________________________________________________________\n"
          ]
        }
      ]
    },
    {
      "cell_type": "code",
      "source": [
        "## Model Visualization\n",
        "from tensorflow.keras.utils import plot_model\n",
        "plot_model(Model4,show_shapes=True)"
      ],
      "metadata": {
        "colab": {
          "base_uri": "https://localhost:8080/",
          "height": 1000
        },
        "id": "fw9dCnfylcVN",
        "outputId": "a9311654-cb12-4349-9101-91b269dc30a6"
      },
      "execution_count": 104,
      "outputs": [
        {
          "output_type": "execute_result",
          "data": {
            "text/plain": [
              "<IPython.core.display.Image object>"
            ],
            "image/png": "[encoded data removed]"
          },
          "metadata": {},
          "execution_count": 104
        }
      ]
    },
    {
      "cell_type": "code",
      "source": [
        "batch_train_10precent=int(len(train_dataset)*0.1)\n",
        "batch_val_10precent=int(len(val_dataset)*0.1)"
      ],
      "metadata": {
        "id": "asSXFPItsvNL"
      },
      "execution_count": 105,
      "outputs": []
    },
    {
      "cell_type": "code",
      "source": [
        "earlystop=EarlyStopping(monitor='val_accuracy',patience=2,mode='max',verbose=0,restore_best_weights=True)"
      ],
      "metadata": {
        "id": "ahYCrkSBrLSB"
      },
      "execution_count": 106,
      "outputs": []
    },
    {
      "cell_type": "code",
      "source": [
        "history= Model4.fit(train_dataset,\n",
        "                    #steps_per_epoch=batch_train_10precent,\n",
        "                    epochs=1000,\n",
        "                    validation_data=val_dataset,\n",
        "                    validation_steps=batch_val_10precent,\n",
        "                    callbacks=[earlystop])"
      ],
      "metadata": {
        "colab": {
          "base_uri": "https://localhost:8080/"
        },
        "id": "LNyuJJyuq46y",
        "outputId": "70a30b9e-9916-4d9d-dc4f-7160fc538bdb"
      },
      "execution_count": 107,
      "outputs": [
        {
          "output_type": "stream",
          "name": "stdout",
          "text": [
            "Epoch 1/1000\n",
            "5627/5627 [==============================] - 484s 83ms/step - loss: 0.3051 - accuracy: 0.8898 - val_loss: 0.3609 - val_accuracy: 0.8597\n",
            "Epoch 2/1000\n",
            "5627/5627 [==============================] - 464s 82ms/step - loss: 0.2600 - accuracy: 0.9051 - val_loss: 0.3596 - val_accuracy: 0.8640\n",
            "Epoch 3/1000\n",
            "5627/5627 [==============================] - 461s 82ms/step - loss: 0.2198 - accuracy: 0.9207 - val_loss: 0.3983 - val_accuracy: 0.8614\n",
            "Epoch 4/1000\n",
            "5627/5627 [==============================] - 460s 82ms/step - loss: 0.1849 - accuracy: 0.9333 - val_loss: 0.4538 - val_accuracy: 0.8600\n"
          ]
        }
      ]
    },
    {
      "cell_type": "code",
      "source": [
        "# plotting result\n",
        "plt.figure(figsize=(10,5))\n",
        "history=pd.DataFrame(history.history)\n",
        "plt.plot(history)\n",
        "plt.legend(history.columns)"
      ],
      "metadata": {
        "colab": {
          "base_uri": "https://localhost:8080/",
          "height": 337
        },
        "id": "Wg0_4xALsafJ",
        "outputId": "3e78796b-6796-4438-8d67-837a091dc34a"
      },
      "execution_count": 108,
      "outputs": [
        {
          "output_type": "execute_result",
          "data": {
            "text/plain": [
              "<matplotlib.legend.Legend at 0x7f1174f7d450>"
            ]
          },
          "metadata": {},
          "execution_count": 108
        },
        {
          "output_type": "display_data",
          "data": {
            "text/plain": [
              "<Figure size 720x360 with 1 Axes>"
            ],
            "image/png": "[encoded data removed]"
          },
          "metadata": {
            "needs_background": "light"
          }
        }
      ]
    },
    {
      "cell_type": "markdown",
      "source": [
        "## Evaluation"
      ],
      "metadata": {
        "id": "Q6QYuUURm6ne"
      }
    },
    {
      "cell_type": "code",
      "source": [
        "from sklearn.metrics import f1_score,accuracy_score,recall_score,precision_score\n",
        "def measure(pred,value):\n",
        "  eva_dict={'accuracy':accuracy_score(value,pred),'precision':precision_score(value,pred,average='weighted'),'recall':recall_score(value,pred,average='weighted'),'f1_score':f1_score(value,pred,average='weighted')}\n",
        "  print(eva_dict)"
      ],
      "metadata": {
        "id": "e7MoAyNt-ctp"
      },
      "execution_count": 109,
      "outputs": []
    },
    {
      "cell_type": "code",
      "source": [
        "Model4.evaluate(val_dataset)"
      ],
      "metadata": {
        "colab": {
          "base_uri": "https://localhost:8080/"
        },
        "id": "Uw1TERBT-lwx",
        "outputId": "e72b9304-156f-4fd0-e634-42125b2be178"
      },
      "execution_count": 110,
      "outputs": [
        {
          "output_type": "stream",
          "name": "stdout",
          "text": [
            "945/945 [==============================] - 26s 27ms/step - loss: 0.3562 - accuracy: 0.8624\n"
          ]
        },
        {
          "output_type": "execute_result",
          "data": {
            "text/plain": [
              "[0.35622259974479675, 0.8623725771903992]"
            ]
          },
          "metadata": {},
          "execution_count": 110
        }
      ]
    },
    {
      "cell_type": "code",
      "source": [
        "pred=Model4.predict(test_dataset)"
      ],
      "metadata": {
        "id": "vFJk_2pp-v24"
      },
      "execution_count": 112,
      "outputs": []
    },
    {
      "cell_type": "code",
      "source": [
        "pred=tf.argmax(pred,axis=1)"
      ],
      "metadata": {
        "id": "Ra92ucJe-_2I"
      },
      "execution_count": 113,
      "outputs": []
    },
    {
      "cell_type": "code",
      "source": [
        "measure(pred,test_df['target'])"
      ],
      "metadata": {
        "colab": {
          "base_uri": "https://localhost:8080/"
        },
        "id": "xvYpnwIr_H2k",
        "outputId": "60b15aea-d04f-49fd-9eca-39e4850b6ec9"
      },
      "execution_count": 114,
      "outputs": [
        {
          "output_type": "stream",
          "name": "stdout",
          "text": [
            "{'accuracy': 0.8585697693711631, 'precision': 0.8581582727155439, 'recall': 0.8585697693711631, 'f1_score': 0.8565879924366737}\n"
          ]
        }
      ]
    }
  ]
}